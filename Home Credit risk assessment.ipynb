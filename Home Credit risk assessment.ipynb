{
 "cells": [
  {
   "cell_type": "markdown",
   "id": "674bba85",
   "metadata": {},
   "source": [
    "# Home Credit risk assessment"
   ]
  },
  {
   "cell_type": "markdown",
   "id": "c1249712",
   "metadata": {},
   "source": [
    "## Topic"
   ]
  },
  {
   "cell_type": "markdown",
   "id": "6a642ebd",
   "metadata": {},
   "source": [
    "Home Credit, a service dedicated to providing lines of credit to the unbanked population, is sharing its previous loan reports to be used in a machine learning project. The aim of the project is to be able to predict whether a client will pay up their\n",
    "loan or not. The dataset consists of several datasources:\n",
    "\n",
    "- application_train/application_test: the main training and testing data with information about each loan application at Home Credit. Every loan has its own row and is identified by the feature SK_ID_CURR. The training application data comes with the TARGET indicating 0: the loan was repaid or 1: the loan was not repaid.\n",
    "- bureau: data concerning client's previous credits from other financial institutions. Each previous credit has its own row in bureau, but one loan in the application data can have multiple previous credits.\n",
    "- bureau_balance: monthly data about the previous credits in bureau. Each row is one month of a previous credit, and a single previous credit can have multiple rows, one for each month of the credit length.\n",
    "- previous_application: previous applications for loans at Home Credit of clients who have loans in the application data. Each current loan in the application data can have multiple previous loans. Each previous application has one row and is identified by the feature SK_ID_PREV.\n",
    "- POS_CASH_BALANCE: monthly data about previous point of sale or cash loans clients have had with Home Credit. Each row is one month of a previous point of sale or cash loan, and a single previous loan can have many rows.\n",
    "- credit_card_balance: monthly data about previous credit cards clients have had with Home Credit. Each row is one month of a credit card balance, and a single credit card can have many rows.\n",
    "- installments_payment: payment history for previous loans at Home Credit. There is one row for every made payment and one row for every missed payment.\n",
    "- HomeCredit_columns_description.csv, an example of the expected submission file. In this first notebook, we will only be working with the main train and test data sets. The others will be used in future notebooks to further improve the model."
   ]
  },
  {
   "cell_type": "markdown",
   "id": "68cfa240",
   "metadata": {},
   "source": [
    "## Objective\n",
    "Build and train at least 4 classification models that can tell with high accuracy whether or not the client pays off their loan."
   ]
  },
  {
   "cell_type": "markdown",
   "id": "991310ed",
   "metadata": {},
   "source": [
    "## Summary"
   ]
  },
  {
   "cell_type": "markdown",
   "id": "c016e41a",
   "metadata": {},
   "source": [
    "- Importing libraries and loading datasets\n",
    "- Exploratory data analysis / Dataviz\n",
    "- Feature engineering\n",
    "- Logistic Regression\n",
    "- Random Forest Classifier\n",
    "- XGBoost\n",
    "- SVM\n",
    "- Test data predictions\n",
    "- Conclusion "
   ]
  },
  {
   "cell_type": "markdown",
   "id": "b1f37ebb",
   "metadata": {},
   "source": [
    "### Importing necessary libraries and loading data sets"
   ]
  },
  {
   "cell_type": "code",
   "execution_count": 50,
   "id": "dfd92349",
   "metadata": {},
   "outputs": [],
   "source": [
    "# Library to handle dataframes\n",
    "import pandas as pd\n",
    "import numpy as np\n",
    "\n",
    "# Visualization libraries\n",
    "import matplotlib.pyplot as plt\n",
    "import seaborn as sns\n",
    "\n",
    "\n",
    "# Undersample data \n",
    "from imblearn.under_sampling import RandomUnderSampler\n",
    "\n",
    "# Preprocess data\n",
    "from sklearn.preprocessing import LabelEncoder\n",
    "from sklearn.preprocessing import MinMaxScaler\n",
    "from sklearn.impute import SimpleImputer\n",
    "\n",
    "# Find relevant features\n",
    "from boruta import BorutaPy\n",
    "\n",
    "# Split data and perform gridsearch \n",
    "from sklearn.model_selection import train_test_split, RandomizedSearchCV, GridSearchCV\n",
    "\n",
    "# Classification algorithms\n",
    "from sklearn.linear_model import LogisticRegression\n",
    "from sklearn.ensemble import RandomForestClassifier\n",
    "import xgboost as xgb\n",
    "from sklearn.svm import SVC\n",
    "\n",
    "# Evaluate performances\n",
    "from sklearn import metrics\n",
    "from sklearn.metrics import  confusion_matrix, classification_report, accuracy_score, precision_score\n",
    "from pprint import pprint\n",
    "from collections import Counter\n"
   ]
  },
  {
   "cell_type": "code",
   "execution_count": 51,
   "id": "00c2f6e6",
   "metadata": {},
   "outputs": [],
   "source": [
    "# Load the datasets\n",
    "train_df = pd.read_csv(r'C:\\Users\\imane\\OneDrive\\Desktop\\Risk_Assessment\\application_train.csv', sep =\",\")\n",
    "test_df = pd.read_csv(r'C:\\Users\\imane\\OneDrive\\Desktop\\Risk_Assessment\\application_test.csv', sep =\",\")"
   ]
  },
  {
   "cell_type": "markdown",
   "id": "41ad6cc6",
   "metadata": {},
   "source": [
    "### Exploratory Data Analysis / Dataviz"
   ]
  },
  {
   "cell_type": "code",
   "execution_count": 52,
   "id": "3287031e",
   "metadata": {},
   "outputs": [
    {
     "data": {
      "text/html": [
       "<div>\n",
       "<style scoped>\n",
       "    .dataframe tbody tr th:only-of-type {\n",
       "        vertical-align: middle;\n",
       "    }\n",
       "\n",
       "    .dataframe tbody tr th {\n",
       "        vertical-align: top;\n",
       "    }\n",
       "\n",
       "    .dataframe thead th {\n",
       "        text-align: right;\n",
       "    }\n",
       "</style>\n",
       "<table border=\"1\" class=\"dataframe\">\n",
       "  <thead>\n",
       "    <tr style=\"text-align: right;\">\n",
       "      <th></th>\n",
       "      <th>SK_ID_CURR</th>\n",
       "      <th>TARGET</th>\n",
       "      <th>NAME_CONTRACT_TYPE</th>\n",
       "      <th>CODE_GENDER</th>\n",
       "      <th>FLAG_OWN_CAR</th>\n",
       "      <th>FLAG_OWN_REALTY</th>\n",
       "      <th>CNT_CHILDREN</th>\n",
       "      <th>AMT_INCOME_TOTAL</th>\n",
       "      <th>AMT_CREDIT</th>\n",
       "      <th>AMT_ANNUITY</th>\n",
       "      <th>...</th>\n",
       "      <th>FLAG_DOCUMENT_18</th>\n",
       "      <th>FLAG_DOCUMENT_19</th>\n",
       "      <th>FLAG_DOCUMENT_20</th>\n",
       "      <th>FLAG_DOCUMENT_21</th>\n",
       "      <th>AMT_REQ_CREDIT_BUREAU_HOUR</th>\n",
       "      <th>AMT_REQ_CREDIT_BUREAU_DAY</th>\n",
       "      <th>AMT_REQ_CREDIT_BUREAU_WEEK</th>\n",
       "      <th>AMT_REQ_CREDIT_BUREAU_MON</th>\n",
       "      <th>AMT_REQ_CREDIT_BUREAU_QRT</th>\n",
       "      <th>AMT_REQ_CREDIT_BUREAU_YEAR</th>\n",
       "    </tr>\n",
       "  </thead>\n",
       "  <tbody>\n",
       "    <tr>\n",
       "      <th>0</th>\n",
       "      <td>100002</td>\n",
       "      <td>1</td>\n",
       "      <td>Cash loans</td>\n",
       "      <td>M</td>\n",
       "      <td>N</td>\n",
       "      <td>Y</td>\n",
       "      <td>0</td>\n",
       "      <td>202500.0</td>\n",
       "      <td>406597.5</td>\n",
       "      <td>24700.5</td>\n",
       "      <td>...</td>\n",
       "      <td>0</td>\n",
       "      <td>0</td>\n",
       "      <td>0</td>\n",
       "      <td>0</td>\n",
       "      <td>0.0</td>\n",
       "      <td>0.0</td>\n",
       "      <td>0.0</td>\n",
       "      <td>0.0</td>\n",
       "      <td>0.0</td>\n",
       "      <td>1.0</td>\n",
       "    </tr>\n",
       "    <tr>\n",
       "      <th>1</th>\n",
       "      <td>100003</td>\n",
       "      <td>0</td>\n",
       "      <td>Cash loans</td>\n",
       "      <td>F</td>\n",
       "      <td>N</td>\n",
       "      <td>N</td>\n",
       "      <td>0</td>\n",
       "      <td>270000.0</td>\n",
       "      <td>1293502.5</td>\n",
       "      <td>35698.5</td>\n",
       "      <td>...</td>\n",
       "      <td>0</td>\n",
       "      <td>0</td>\n",
       "      <td>0</td>\n",
       "      <td>0</td>\n",
       "      <td>0.0</td>\n",
       "      <td>0.0</td>\n",
       "      <td>0.0</td>\n",
       "      <td>0.0</td>\n",
       "      <td>0.0</td>\n",
       "      <td>0.0</td>\n",
       "    </tr>\n",
       "    <tr>\n",
       "      <th>2</th>\n",
       "      <td>100004</td>\n",
       "      <td>0</td>\n",
       "      <td>Revolving loans</td>\n",
       "      <td>M</td>\n",
       "      <td>Y</td>\n",
       "      <td>Y</td>\n",
       "      <td>0</td>\n",
       "      <td>67500.0</td>\n",
       "      <td>135000.0</td>\n",
       "      <td>6750.0</td>\n",
       "      <td>...</td>\n",
       "      <td>0</td>\n",
       "      <td>0</td>\n",
       "      <td>0</td>\n",
       "      <td>0</td>\n",
       "      <td>0.0</td>\n",
       "      <td>0.0</td>\n",
       "      <td>0.0</td>\n",
       "      <td>0.0</td>\n",
       "      <td>0.0</td>\n",
       "      <td>0.0</td>\n",
       "    </tr>\n",
       "    <tr>\n",
       "      <th>3</th>\n",
       "      <td>100006</td>\n",
       "      <td>0</td>\n",
       "      <td>Cash loans</td>\n",
       "      <td>F</td>\n",
       "      <td>N</td>\n",
       "      <td>Y</td>\n",
       "      <td>0</td>\n",
       "      <td>135000.0</td>\n",
       "      <td>312682.5</td>\n",
       "      <td>29686.5</td>\n",
       "      <td>...</td>\n",
       "      <td>0</td>\n",
       "      <td>0</td>\n",
       "      <td>0</td>\n",
       "      <td>0</td>\n",
       "      <td>NaN</td>\n",
       "      <td>NaN</td>\n",
       "      <td>NaN</td>\n",
       "      <td>NaN</td>\n",
       "      <td>NaN</td>\n",
       "      <td>NaN</td>\n",
       "    </tr>\n",
       "    <tr>\n",
       "      <th>4</th>\n",
       "      <td>100007</td>\n",
       "      <td>0</td>\n",
       "      <td>Cash loans</td>\n",
       "      <td>M</td>\n",
       "      <td>N</td>\n",
       "      <td>Y</td>\n",
       "      <td>0</td>\n",
       "      <td>121500.0</td>\n",
       "      <td>513000.0</td>\n",
       "      <td>21865.5</td>\n",
       "      <td>...</td>\n",
       "      <td>0</td>\n",
       "      <td>0</td>\n",
       "      <td>0</td>\n",
       "      <td>0</td>\n",
       "      <td>0.0</td>\n",
       "      <td>0.0</td>\n",
       "      <td>0.0</td>\n",
       "      <td>0.0</td>\n",
       "      <td>0.0</td>\n",
       "      <td>0.0</td>\n",
       "    </tr>\n",
       "  </tbody>\n",
       "</table>\n",
       "<p>5 rows × 122 columns</p>\n",
       "</div>"
      ],
      "text/plain": [
       "   SK_ID_CURR  TARGET NAME_CONTRACT_TYPE CODE_GENDER FLAG_OWN_CAR  \\\n",
       "0      100002       1         Cash loans           M            N   \n",
       "1      100003       0         Cash loans           F            N   \n",
       "2      100004       0    Revolving loans           M            Y   \n",
       "3      100006       0         Cash loans           F            N   \n",
       "4      100007       0         Cash loans           M            N   \n",
       "\n",
       "  FLAG_OWN_REALTY  CNT_CHILDREN  AMT_INCOME_TOTAL  AMT_CREDIT  AMT_ANNUITY  \\\n",
       "0               Y             0          202500.0    406597.5      24700.5   \n",
       "1               N             0          270000.0   1293502.5      35698.5   \n",
       "2               Y             0           67500.0    135000.0       6750.0   \n",
       "3               Y             0          135000.0    312682.5      29686.5   \n",
       "4               Y             0          121500.0    513000.0      21865.5   \n",
       "\n",
       "   ...  FLAG_DOCUMENT_18 FLAG_DOCUMENT_19 FLAG_DOCUMENT_20 FLAG_DOCUMENT_21  \\\n",
       "0  ...                 0                0                0                0   \n",
       "1  ...                 0                0                0                0   \n",
       "2  ...                 0                0                0                0   \n",
       "3  ...                 0                0                0                0   \n",
       "4  ...                 0                0                0                0   \n",
       "\n",
       "  AMT_REQ_CREDIT_BUREAU_HOUR AMT_REQ_CREDIT_BUREAU_DAY  \\\n",
       "0                        0.0                       0.0   \n",
       "1                        0.0                       0.0   \n",
       "2                        0.0                       0.0   \n",
       "3                        NaN                       NaN   \n",
       "4                        0.0                       0.0   \n",
       "\n",
       "   AMT_REQ_CREDIT_BUREAU_WEEK  AMT_REQ_CREDIT_BUREAU_MON  \\\n",
       "0                         0.0                        0.0   \n",
       "1                         0.0                        0.0   \n",
       "2                         0.0                        0.0   \n",
       "3                         NaN                        NaN   \n",
       "4                         0.0                        0.0   \n",
       "\n",
       "   AMT_REQ_CREDIT_BUREAU_QRT  AMT_REQ_CREDIT_BUREAU_YEAR  \n",
       "0                        0.0                         1.0  \n",
       "1                        0.0                         0.0  \n",
       "2                        0.0                         0.0  \n",
       "3                        NaN                         NaN  \n",
       "4                        0.0                         0.0  \n",
       "\n",
       "[5 rows x 122 columns]"
      ]
     },
     "execution_count": 52,
     "metadata": {},
     "output_type": "execute_result"
    }
   ],
   "source": [
    "# Quick look at the train set \n",
    "train_df.head()"
   ]
  },
  {
   "cell_type": "code",
   "execution_count": 53,
   "id": "9a3a2f2f",
   "metadata": {},
   "outputs": [
    {
     "name": "stdout",
     "output_type": "stream",
     "text": [
      "<class 'pandas.core.frame.DataFrame'>\n",
      "RangeIndex: 307511 entries, 0 to 307510\n",
      "Columns: 122 entries, SK_ID_CURR to AMT_REQ_CREDIT_BUREAU_YEAR\n",
      "dtypes: float64(65), int64(41), object(16)\n",
      "memory usage: 286.2+ MB\n"
     ]
    }
   ],
   "source": [
    "train_df.info()"
   ]
  },
  {
   "cell_type": "code",
   "execution_count": 54,
   "id": "44fb40df",
   "metadata": {},
   "outputs": [
    {
     "data": {
      "text/html": [
       "<div>\n",
       "<style scoped>\n",
       "    .dataframe tbody tr th:only-of-type {\n",
       "        vertical-align: middle;\n",
       "    }\n",
       "\n",
       "    .dataframe tbody tr th {\n",
       "        vertical-align: top;\n",
       "    }\n",
       "\n",
       "    .dataframe thead th {\n",
       "        text-align: right;\n",
       "    }\n",
       "</style>\n",
       "<table border=\"1\" class=\"dataframe\">\n",
       "  <thead>\n",
       "    <tr style=\"text-align: right;\">\n",
       "      <th></th>\n",
       "      <th>SK_ID_CURR</th>\n",
       "      <th>NAME_CONTRACT_TYPE</th>\n",
       "      <th>CODE_GENDER</th>\n",
       "      <th>FLAG_OWN_CAR</th>\n",
       "      <th>FLAG_OWN_REALTY</th>\n",
       "      <th>CNT_CHILDREN</th>\n",
       "      <th>AMT_INCOME_TOTAL</th>\n",
       "      <th>AMT_CREDIT</th>\n",
       "      <th>AMT_ANNUITY</th>\n",
       "      <th>AMT_GOODS_PRICE</th>\n",
       "      <th>...</th>\n",
       "      <th>FLAG_DOCUMENT_18</th>\n",
       "      <th>FLAG_DOCUMENT_19</th>\n",
       "      <th>FLAG_DOCUMENT_20</th>\n",
       "      <th>FLAG_DOCUMENT_21</th>\n",
       "      <th>AMT_REQ_CREDIT_BUREAU_HOUR</th>\n",
       "      <th>AMT_REQ_CREDIT_BUREAU_DAY</th>\n",
       "      <th>AMT_REQ_CREDIT_BUREAU_WEEK</th>\n",
       "      <th>AMT_REQ_CREDIT_BUREAU_MON</th>\n",
       "      <th>AMT_REQ_CREDIT_BUREAU_QRT</th>\n",
       "      <th>AMT_REQ_CREDIT_BUREAU_YEAR</th>\n",
       "    </tr>\n",
       "  </thead>\n",
       "  <tbody>\n",
       "    <tr>\n",
       "      <th>0</th>\n",
       "      <td>100001</td>\n",
       "      <td>Cash loans</td>\n",
       "      <td>F</td>\n",
       "      <td>N</td>\n",
       "      <td>Y</td>\n",
       "      <td>0</td>\n",
       "      <td>135000.0</td>\n",
       "      <td>568800.0</td>\n",
       "      <td>20560.5</td>\n",
       "      <td>450000.0</td>\n",
       "      <td>...</td>\n",
       "      <td>0</td>\n",
       "      <td>0</td>\n",
       "      <td>0</td>\n",
       "      <td>0</td>\n",
       "      <td>0.0</td>\n",
       "      <td>0.0</td>\n",
       "      <td>0.0</td>\n",
       "      <td>0.0</td>\n",
       "      <td>0.0</td>\n",
       "      <td>0.0</td>\n",
       "    </tr>\n",
       "    <tr>\n",
       "      <th>1</th>\n",
       "      <td>100005</td>\n",
       "      <td>Cash loans</td>\n",
       "      <td>M</td>\n",
       "      <td>N</td>\n",
       "      <td>Y</td>\n",
       "      <td>0</td>\n",
       "      <td>99000.0</td>\n",
       "      <td>222768.0</td>\n",
       "      <td>17370.0</td>\n",
       "      <td>180000.0</td>\n",
       "      <td>...</td>\n",
       "      <td>0</td>\n",
       "      <td>0</td>\n",
       "      <td>0</td>\n",
       "      <td>0</td>\n",
       "      <td>0.0</td>\n",
       "      <td>0.0</td>\n",
       "      <td>0.0</td>\n",
       "      <td>0.0</td>\n",
       "      <td>0.0</td>\n",
       "      <td>3.0</td>\n",
       "    </tr>\n",
       "    <tr>\n",
       "      <th>2</th>\n",
       "      <td>100013</td>\n",
       "      <td>Cash loans</td>\n",
       "      <td>M</td>\n",
       "      <td>Y</td>\n",
       "      <td>Y</td>\n",
       "      <td>0</td>\n",
       "      <td>202500.0</td>\n",
       "      <td>663264.0</td>\n",
       "      <td>69777.0</td>\n",
       "      <td>630000.0</td>\n",
       "      <td>...</td>\n",
       "      <td>0</td>\n",
       "      <td>0</td>\n",
       "      <td>0</td>\n",
       "      <td>0</td>\n",
       "      <td>0.0</td>\n",
       "      <td>0.0</td>\n",
       "      <td>0.0</td>\n",
       "      <td>0.0</td>\n",
       "      <td>1.0</td>\n",
       "      <td>4.0</td>\n",
       "    </tr>\n",
       "    <tr>\n",
       "      <th>3</th>\n",
       "      <td>100028</td>\n",
       "      <td>Cash loans</td>\n",
       "      <td>F</td>\n",
       "      <td>N</td>\n",
       "      <td>Y</td>\n",
       "      <td>2</td>\n",
       "      <td>315000.0</td>\n",
       "      <td>1575000.0</td>\n",
       "      <td>49018.5</td>\n",
       "      <td>1575000.0</td>\n",
       "      <td>...</td>\n",
       "      <td>0</td>\n",
       "      <td>0</td>\n",
       "      <td>0</td>\n",
       "      <td>0</td>\n",
       "      <td>0.0</td>\n",
       "      <td>0.0</td>\n",
       "      <td>0.0</td>\n",
       "      <td>0.0</td>\n",
       "      <td>0.0</td>\n",
       "      <td>3.0</td>\n",
       "    </tr>\n",
       "    <tr>\n",
       "      <th>4</th>\n",
       "      <td>100038</td>\n",
       "      <td>Cash loans</td>\n",
       "      <td>M</td>\n",
       "      <td>Y</td>\n",
       "      <td>N</td>\n",
       "      <td>1</td>\n",
       "      <td>180000.0</td>\n",
       "      <td>625500.0</td>\n",
       "      <td>32067.0</td>\n",
       "      <td>625500.0</td>\n",
       "      <td>...</td>\n",
       "      <td>0</td>\n",
       "      <td>0</td>\n",
       "      <td>0</td>\n",
       "      <td>0</td>\n",
       "      <td>NaN</td>\n",
       "      <td>NaN</td>\n",
       "      <td>NaN</td>\n",
       "      <td>NaN</td>\n",
       "      <td>NaN</td>\n",
       "      <td>NaN</td>\n",
       "    </tr>\n",
       "  </tbody>\n",
       "</table>\n",
       "<p>5 rows × 121 columns</p>\n",
       "</div>"
      ],
      "text/plain": [
       "   SK_ID_CURR NAME_CONTRACT_TYPE CODE_GENDER FLAG_OWN_CAR FLAG_OWN_REALTY  \\\n",
       "0      100001         Cash loans           F            N               Y   \n",
       "1      100005         Cash loans           M            N               Y   \n",
       "2      100013         Cash loans           M            Y               Y   \n",
       "3      100028         Cash loans           F            N               Y   \n",
       "4      100038         Cash loans           M            Y               N   \n",
       "\n",
       "   CNT_CHILDREN  AMT_INCOME_TOTAL  AMT_CREDIT  AMT_ANNUITY  AMT_GOODS_PRICE  \\\n",
       "0             0          135000.0    568800.0      20560.5         450000.0   \n",
       "1             0           99000.0    222768.0      17370.0         180000.0   \n",
       "2             0          202500.0    663264.0      69777.0         630000.0   \n",
       "3             2          315000.0   1575000.0      49018.5        1575000.0   \n",
       "4             1          180000.0    625500.0      32067.0         625500.0   \n",
       "\n",
       "   ... FLAG_DOCUMENT_18 FLAG_DOCUMENT_19 FLAG_DOCUMENT_20 FLAG_DOCUMENT_21  \\\n",
       "0  ...                0                0                0                0   \n",
       "1  ...                0                0                0                0   \n",
       "2  ...                0                0                0                0   \n",
       "3  ...                0                0                0                0   \n",
       "4  ...                0                0                0                0   \n",
       "\n",
       "  AMT_REQ_CREDIT_BUREAU_HOUR  AMT_REQ_CREDIT_BUREAU_DAY  \\\n",
       "0                        0.0                        0.0   \n",
       "1                        0.0                        0.0   \n",
       "2                        0.0                        0.0   \n",
       "3                        0.0                        0.0   \n",
       "4                        NaN                        NaN   \n",
       "\n",
       "   AMT_REQ_CREDIT_BUREAU_WEEK  AMT_REQ_CREDIT_BUREAU_MON  \\\n",
       "0                         0.0                        0.0   \n",
       "1                         0.0                        0.0   \n",
       "2                         0.0                        0.0   \n",
       "3                         0.0                        0.0   \n",
       "4                         NaN                        NaN   \n",
       "\n",
       "   AMT_REQ_CREDIT_BUREAU_QRT  AMT_REQ_CREDIT_BUREAU_YEAR  \n",
       "0                        0.0                         0.0  \n",
       "1                        0.0                         3.0  \n",
       "2                        1.0                         4.0  \n",
       "3                        0.0                         3.0  \n",
       "4                        NaN                         NaN  \n",
       "\n",
       "[5 rows x 121 columns]"
      ]
     },
     "execution_count": 54,
     "metadata": {},
     "output_type": "execute_result"
    }
   ],
   "source": [
    "test_df.head()"
   ]
  },
  {
   "cell_type": "code",
   "execution_count": 55,
   "id": "27748c6d",
   "metadata": {},
   "outputs": [
    {
     "name": "stdout",
     "output_type": "stream",
     "text": [
      "<class 'pandas.core.frame.DataFrame'>\n",
      "RangeIndex: 48744 entries, 0 to 48743\n",
      "Columns: 121 entries, SK_ID_CURR to AMT_REQ_CREDIT_BUREAU_YEAR\n",
      "dtypes: float64(65), int64(40), object(16)\n",
      "memory usage: 45.0+ MB\n"
     ]
    }
   ],
   "source": [
    "test_df.info()"
   ]
  },
  {
   "cell_type": "markdown",
   "id": "b46f3548",
   "metadata": {},
   "source": [
    "Data frames are pretty big and contain lots of columns. The train set contains the target columns while the test set doesn't.\n",
    "In the target column we can see two classes, either 0 or 1. 0 means that the client has repaid their loan and 1 means the opposite. "
   ]
  },
  {
   "cell_type": "code",
   "execution_count": 56,
   "id": "28708b3c",
   "metadata": {},
   "outputs": [],
   "source": [
    "# Check the missing values and their percentages\n",
    "# Create a function that returns a dataframe containing columns names and the percentage of missing values in it \n",
    "# Keep only those who have missing values of above 60%\n",
    "def table (df):\n",
    "    missing = df.isnull().sum()\n",
    "    missing_perc = df.isnull().sum() * 100/ len(df)\n",
    "    missing_df = pd.concat([missing,missing_perc], axis = 1)\n",
    "    missing_df = missing_df.rename(columns={0:\"n missing\",1:\"n percentage\"})\n",
    "    return missing_df"
   ]
  },
  {
   "cell_type": "code",
   "execution_count": 57,
   "id": "24415992",
   "metadata": {},
   "outputs": [
    {
     "data": {
      "text/html": [
       "<div>\n",
       "<style scoped>\n",
       "    .dataframe tbody tr th:only-of-type {\n",
       "        vertical-align: middle;\n",
       "    }\n",
       "\n",
       "    .dataframe tbody tr th {\n",
       "        vertical-align: top;\n",
       "    }\n",
       "\n",
       "    .dataframe thead th {\n",
       "        text-align: right;\n",
       "    }\n",
       "</style>\n",
       "<table border=\"1\" class=\"dataframe\">\n",
       "  <thead>\n",
       "    <tr style=\"text-align: right;\">\n",
       "      <th></th>\n",
       "      <th>index</th>\n",
       "      <th>n missing</th>\n",
       "      <th>n percentage</th>\n",
       "    </tr>\n",
       "  </thead>\n",
       "  <tbody>\n",
       "    <tr>\n",
       "      <th>0</th>\n",
       "      <td>COMMONAREA_MEDI</td>\n",
       "      <td>214865</td>\n",
       "      <td>69.9</td>\n",
       "    </tr>\n",
       "    <tr>\n",
       "      <th>1</th>\n",
       "      <td>COMMONAREA_AVG</td>\n",
       "      <td>214865</td>\n",
       "      <td>69.9</td>\n",
       "    </tr>\n",
       "    <tr>\n",
       "      <th>2</th>\n",
       "      <td>COMMONAREA_MODE</td>\n",
       "      <td>214865</td>\n",
       "      <td>69.9</td>\n",
       "    </tr>\n",
       "    <tr>\n",
       "      <th>3</th>\n",
       "      <td>NONLIVINGAPARTMENTS_MEDI</td>\n",
       "      <td>213514</td>\n",
       "      <td>69.4</td>\n",
       "    </tr>\n",
       "    <tr>\n",
       "      <th>4</th>\n",
       "      <td>NONLIVINGAPARTMENTS_AVG</td>\n",
       "      <td>213514</td>\n",
       "      <td>69.4</td>\n",
       "    </tr>\n",
       "    <tr>\n",
       "      <th>5</th>\n",
       "      <td>NONLIVINGAPARTMENTS_MODE</td>\n",
       "      <td>213514</td>\n",
       "      <td>69.4</td>\n",
       "    </tr>\n",
       "    <tr>\n",
       "      <th>6</th>\n",
       "      <td>FONDKAPREMONT_MODE</td>\n",
       "      <td>210295</td>\n",
       "      <td>68.4</td>\n",
       "    </tr>\n",
       "    <tr>\n",
       "      <th>7</th>\n",
       "      <td>LIVINGAPARTMENTS_AVG</td>\n",
       "      <td>210199</td>\n",
       "      <td>68.4</td>\n",
       "    </tr>\n",
       "    <tr>\n",
       "      <th>8</th>\n",
       "      <td>LIVINGAPARTMENTS_MEDI</td>\n",
       "      <td>210199</td>\n",
       "      <td>68.4</td>\n",
       "    </tr>\n",
       "    <tr>\n",
       "      <th>9</th>\n",
       "      <td>LIVINGAPARTMENTS_MODE</td>\n",
       "      <td>210199</td>\n",
       "      <td>68.4</td>\n",
       "    </tr>\n",
       "    <tr>\n",
       "      <th>10</th>\n",
       "      <td>FLOORSMIN_MEDI</td>\n",
       "      <td>208642</td>\n",
       "      <td>67.8</td>\n",
       "    </tr>\n",
       "    <tr>\n",
       "      <th>11</th>\n",
       "      <td>FLOORSMIN_MODE</td>\n",
       "      <td>208642</td>\n",
       "      <td>67.8</td>\n",
       "    </tr>\n",
       "    <tr>\n",
       "      <th>12</th>\n",
       "      <td>FLOORSMIN_AVG</td>\n",
       "      <td>208642</td>\n",
       "      <td>67.8</td>\n",
       "    </tr>\n",
       "    <tr>\n",
       "      <th>13</th>\n",
       "      <td>YEARS_BUILD_MEDI</td>\n",
       "      <td>204488</td>\n",
       "      <td>66.5</td>\n",
       "    </tr>\n",
       "    <tr>\n",
       "      <th>14</th>\n",
       "      <td>YEARS_BUILD_AVG</td>\n",
       "      <td>204488</td>\n",
       "      <td>66.5</td>\n",
       "    </tr>\n",
       "    <tr>\n",
       "      <th>15</th>\n",
       "      <td>YEARS_BUILD_MODE</td>\n",
       "      <td>204488</td>\n",
       "      <td>66.5</td>\n",
       "    </tr>\n",
       "    <tr>\n",
       "      <th>16</th>\n",
       "      <td>OWN_CAR_AGE</td>\n",
       "      <td>202929</td>\n",
       "      <td>66.0</td>\n",
       "    </tr>\n",
       "  </tbody>\n",
       "</table>\n",
       "</div>"
      ],
      "text/plain": [
       "                       index  n missing  n percentage\n",
       "0            COMMONAREA_MEDI     214865          69.9\n",
       "1             COMMONAREA_AVG     214865          69.9\n",
       "2            COMMONAREA_MODE     214865          69.9\n",
       "3   NONLIVINGAPARTMENTS_MEDI     213514          69.4\n",
       "4    NONLIVINGAPARTMENTS_AVG     213514          69.4\n",
       "5   NONLIVINGAPARTMENTS_MODE     213514          69.4\n",
       "6         FONDKAPREMONT_MODE     210295          68.4\n",
       "7       LIVINGAPARTMENTS_AVG     210199          68.4\n",
       "8      LIVINGAPARTMENTS_MEDI     210199          68.4\n",
       "9      LIVINGAPARTMENTS_MODE     210199          68.4\n",
       "10            FLOORSMIN_MEDI     208642          67.8\n",
       "11            FLOORSMIN_MODE     208642          67.8\n",
       "12             FLOORSMIN_AVG     208642          67.8\n",
       "13          YEARS_BUILD_MEDI     204488          66.5\n",
       "14           YEARS_BUILD_AVG     204488          66.5\n",
       "15          YEARS_BUILD_MODE     204488          66.5\n",
       "16               OWN_CAR_AGE     202929          66.0"
      ]
     },
     "execution_count": 57,
     "metadata": {},
     "output_type": "execute_result"
    }
   ],
   "source": [
    "# Apply the function on the train set\n",
    "missing_train = table(train_df)\n",
    "missing_train.drop(missing_train.index[(missing_train[\"n percentage\"] < 60)],axis = 0 , inplace = True)\n",
    "missing_train = missing_train.round(1)\n",
    "missing_train = missing_train.sort_values(by = [\"n percentage\"],ascending = False)\n",
    "missing_train = missing_train.reset_index()\n",
    "missing_train"
   ]
  },
  {
   "cell_type": "code",
   "execution_count": 58,
   "id": "91643468",
   "metadata": {},
   "outputs": [
    {
     "data": {
      "text/html": [
       "<div>\n",
       "<style scoped>\n",
       "    .dataframe tbody tr th:only-of-type {\n",
       "        vertical-align: middle;\n",
       "    }\n",
       "\n",
       "    .dataframe tbody tr th {\n",
       "        vertical-align: top;\n",
       "    }\n",
       "\n",
       "    .dataframe thead th {\n",
       "        text-align: right;\n",
       "    }\n",
       "</style>\n",
       "<table border=\"1\" class=\"dataframe\">\n",
       "  <thead>\n",
       "    <tr style=\"text-align: right;\">\n",
       "      <th></th>\n",
       "      <th>index</th>\n",
       "      <th>n missing</th>\n",
       "      <th>n percentage</th>\n",
       "    </tr>\n",
       "  </thead>\n",
       "  <tbody>\n",
       "    <tr>\n",
       "      <th>0</th>\n",
       "      <td>COMMONAREA_MEDI</td>\n",
       "      <td>33495</td>\n",
       "      <td>68.7</td>\n",
       "    </tr>\n",
       "    <tr>\n",
       "      <th>1</th>\n",
       "      <td>COMMONAREA_AVG</td>\n",
       "      <td>33495</td>\n",
       "      <td>68.7</td>\n",
       "    </tr>\n",
       "    <tr>\n",
       "      <th>2</th>\n",
       "      <td>COMMONAREA_MODE</td>\n",
       "      <td>33495</td>\n",
       "      <td>68.7</td>\n",
       "    </tr>\n",
       "    <tr>\n",
       "      <th>3</th>\n",
       "      <td>NONLIVINGAPARTMENTS_MEDI</td>\n",
       "      <td>33347</td>\n",
       "      <td>68.4</td>\n",
       "    </tr>\n",
       "    <tr>\n",
       "      <th>4</th>\n",
       "      <td>NONLIVINGAPARTMENTS_AVG</td>\n",
       "      <td>33347</td>\n",
       "      <td>68.4</td>\n",
       "    </tr>\n",
       "    <tr>\n",
       "      <th>5</th>\n",
       "      <td>NONLIVINGAPARTMENTS_MODE</td>\n",
       "      <td>33347</td>\n",
       "      <td>68.4</td>\n",
       "    </tr>\n",
       "    <tr>\n",
       "      <th>6</th>\n",
       "      <td>FONDKAPREMONT_MODE</td>\n",
       "      <td>32797</td>\n",
       "      <td>67.3</td>\n",
       "    </tr>\n",
       "    <tr>\n",
       "      <th>7</th>\n",
       "      <td>LIVINGAPARTMENTS_AVG</td>\n",
       "      <td>32780</td>\n",
       "      <td>67.2</td>\n",
       "    </tr>\n",
       "    <tr>\n",
       "      <th>8</th>\n",
       "      <td>LIVINGAPARTMENTS_MEDI</td>\n",
       "      <td>32780</td>\n",
       "      <td>67.2</td>\n",
       "    </tr>\n",
       "    <tr>\n",
       "      <th>9</th>\n",
       "      <td>LIVINGAPARTMENTS_MODE</td>\n",
       "      <td>32780</td>\n",
       "      <td>67.2</td>\n",
       "    </tr>\n",
       "    <tr>\n",
       "      <th>10</th>\n",
       "      <td>FLOORSMIN_MEDI</td>\n",
       "      <td>32466</td>\n",
       "      <td>66.6</td>\n",
       "    </tr>\n",
       "    <tr>\n",
       "      <th>11</th>\n",
       "      <td>FLOORSMIN_MODE</td>\n",
       "      <td>32466</td>\n",
       "      <td>66.6</td>\n",
       "    </tr>\n",
       "    <tr>\n",
       "      <th>12</th>\n",
       "      <td>FLOORSMIN_AVG</td>\n",
       "      <td>32466</td>\n",
       "      <td>66.6</td>\n",
       "    </tr>\n",
       "    <tr>\n",
       "      <th>13</th>\n",
       "      <td>OWN_CAR_AGE</td>\n",
       "      <td>32312</td>\n",
       "      <td>66.3</td>\n",
       "    </tr>\n",
       "    <tr>\n",
       "      <th>14</th>\n",
       "      <td>YEARS_BUILD_MEDI</td>\n",
       "      <td>31818</td>\n",
       "      <td>65.3</td>\n",
       "    </tr>\n",
       "    <tr>\n",
       "      <th>15</th>\n",
       "      <td>YEARS_BUILD_AVG</td>\n",
       "      <td>31818</td>\n",
       "      <td>65.3</td>\n",
       "    </tr>\n",
       "    <tr>\n",
       "      <th>16</th>\n",
       "      <td>YEARS_BUILD_MODE</td>\n",
       "      <td>31818</td>\n",
       "      <td>65.3</td>\n",
       "    </tr>\n",
       "  </tbody>\n",
       "</table>\n",
       "</div>"
      ],
      "text/plain": [
       "                       index  n missing  n percentage\n",
       "0            COMMONAREA_MEDI      33495          68.7\n",
       "1             COMMONAREA_AVG      33495          68.7\n",
       "2            COMMONAREA_MODE      33495          68.7\n",
       "3   NONLIVINGAPARTMENTS_MEDI      33347          68.4\n",
       "4    NONLIVINGAPARTMENTS_AVG      33347          68.4\n",
       "5   NONLIVINGAPARTMENTS_MODE      33347          68.4\n",
       "6         FONDKAPREMONT_MODE      32797          67.3\n",
       "7       LIVINGAPARTMENTS_AVG      32780          67.2\n",
       "8      LIVINGAPARTMENTS_MEDI      32780          67.2\n",
       "9      LIVINGAPARTMENTS_MODE      32780          67.2\n",
       "10            FLOORSMIN_MEDI      32466          66.6\n",
       "11            FLOORSMIN_MODE      32466          66.6\n",
       "12             FLOORSMIN_AVG      32466          66.6\n",
       "13               OWN_CAR_AGE      32312          66.3\n",
       "14          YEARS_BUILD_MEDI      31818          65.3\n",
       "15           YEARS_BUILD_AVG      31818          65.3\n",
       "16          YEARS_BUILD_MODE      31818          65.3"
      ]
     },
     "execution_count": 58,
     "metadata": {},
     "output_type": "execute_result"
    }
   ],
   "source": [
    "# Apply the function on the test set \n",
    "missing_test = table(test_df)\n",
    "missing_test.drop(missing_test.index[(missing_test[\"n percentage\"] < 60)],axis = 0 , inplace = True)\n",
    "missing_test = missing_test.round(1)\n",
    "missing_test = missing_test.sort_values(by = [\"n percentage\"],ascending = False)\n",
    "missing_test = missing_test.reset_index()\n",
    "missing_test"
   ]
  },
  {
   "cell_type": "markdown",
   "id": "038e18d6",
   "metadata": {},
   "source": [
    "We see that the same columns from the data and test sets contain more than 60% empty values. These columns will be dropped later during feature selection"
   ]
  },
  {
   "cell_type": "code",
   "execution_count": 59,
   "id": "a9da072d",
   "metadata": {},
   "outputs": [
    {
     "data": {
      "text/plain": [
       "<AxesSubplot:title={'center':'Distribution of classes'}, ylabel='Frequency'>"
      ]
     },
     "execution_count": 59,
     "metadata": {},
     "output_type": "execute_result"
    },
    {
     "data": {
      "image/png": "[encoded data removed]",
      "text/plain": [
       "<Figure size 432x288 with 1 Axes>"
      ]
     },
     "metadata": {
      "needs_background": "light"
     },
     "output_type": "display_data"
    }
   ],
   "source": [
    "# Let's take a look at the distribution of the target classes\n",
    "train_df[\"TARGET\"].astype(int).plot.hist(title = \"Distribution of classes\")"
   ]
  },
  {
   "cell_type": "markdown",
   "id": "266a2994",
   "metadata": {},
   "source": [
    "There is a huge difference between the instances of 0 and 1. It'll be fixed by using undersampling later on (oversampling can also be used, but undersampling is the simplest choice in this case)."
   ]
  },
  {
   "cell_type": "code",
   "execution_count": 60,
   "id": "350d685f",
   "metadata": {},
   "outputs": [
    {
     "data": {
      "text/plain": [
       "float64    65\n",
       "int64      41\n",
       "object     16\n",
       "dtype: int64"
      ]
     },
     "execution_count": 60,
     "metadata": {},
     "output_type": "execute_result"
    }
   ],
   "source": [
    "# A look at the datatypes we have in the set \n",
    "train_df.dtypes.value_counts()"
   ]
  },
  {
   "cell_type": "code",
   "execution_count": 61,
   "id": "9bf244a2",
   "metadata": {},
   "outputs": [
    {
     "data": {
      "text/plain": [
       "float64    65\n",
       "int64      40\n",
       "object     16\n",
       "dtype: int64"
      ]
     },
     "execution_count": 61,
     "metadata": {},
     "output_type": "execute_result"
    }
   ],
   "source": [
    "test_df.dtypes.value_counts()"
   ]
  },
  {
   "cell_type": "code",
   "execution_count": 62,
   "id": "9508c951",
   "metadata": {},
   "outputs": [
    {
     "data": {
      "text/plain": [
       "NAME_CONTRACT_TYPE             2\n",
       "CODE_GENDER                    3\n",
       "FLAG_OWN_CAR                   2\n",
       "FLAG_OWN_REALTY                2\n",
       "NAME_TYPE_SUITE                7\n",
       "NAME_INCOME_TYPE               8\n",
       "NAME_EDUCATION_TYPE            5\n",
       "NAME_FAMILY_STATUS             6\n",
       "NAME_HOUSING_TYPE              6\n",
       "OCCUPATION_TYPE               18\n",
       "WEEKDAY_APPR_PROCESS_START     7\n",
       "ORGANIZATION_TYPE             58\n",
       "FONDKAPREMONT_MODE             4\n",
       "HOUSETYPE_MODE                 3\n",
       "WALLSMATERIAL_MODE             7\n",
       "EMERGENCYSTATE_MODE            2\n",
       "dtype: int64"
      ]
     },
     "execution_count": 62,
     "metadata": {},
     "output_type": "execute_result"
    }
   ],
   "source": [
    "# Look at the number of entries of each unique categorical value per column\n",
    "train_df.select_dtypes(\"object\").apply(pd.Series.nunique, axis = 0)"
   ]
  },
  {
   "cell_type": "code",
   "execution_count": 63,
   "id": "dcb469af",
   "metadata": {},
   "outputs": [
    {
     "data": {
      "text/plain": [
       "NAME_CONTRACT_TYPE             2\n",
       "CODE_GENDER                    2\n",
       "FLAG_OWN_CAR                   2\n",
       "FLAG_OWN_REALTY                2\n",
       "NAME_TYPE_SUITE                7\n",
       "NAME_INCOME_TYPE               7\n",
       "NAME_EDUCATION_TYPE            5\n",
       "NAME_FAMILY_STATUS             5\n",
       "NAME_HOUSING_TYPE              6\n",
       "OCCUPATION_TYPE               18\n",
       "WEEKDAY_APPR_PROCESS_START     7\n",
       "ORGANIZATION_TYPE             58\n",
       "FONDKAPREMONT_MODE             4\n",
       "HOUSETYPE_MODE                 3\n",
       "WALLSMATERIAL_MODE             7\n",
       "EMERGENCYSTATE_MODE            2\n",
       "dtype: int64"
      ]
     },
     "execution_count": 63,
     "metadata": {},
     "output_type": "execute_result"
    }
   ],
   "source": [
    "test_df.select_dtypes(\"object\").apply(pd.Series.nunique, axis = 0)"
   ]
  },
  {
   "cell_type": "markdown",
   "id": "b5c06467",
   "metadata": {},
   "source": [
    "By looking at the data types, we see that we have integers, floats and objects which are basically categorical. Then, we saw how many unique categories are there in each categorical features. So, for features with two a maximum of categories we'll use label encoding, and for those with more than 2 categories we'll use one hot encoding. But before that, we'll delete the two columns with the most categorical features (occupation type and organization type) because it is very costly for the computer to transform those when using ine-hot encoding from one side, and because they don't represent strong indicators as to whether the client would pay."
   ]
  },
  {
   "cell_type": "code",
   "execution_count": 64,
   "id": "d047fa50",
   "metadata": {},
   "outputs": [
    {
     "data": {
      "text/plain": [
       "<AxesSubplot:title={'center':'Days of employment'}, ylabel='Frequency'>"
      ]
     },
     "execution_count": 64,
     "metadata": {},
     "output_type": "execute_result"
    },
    {
     "data": {
      "image/png": "[encoded data removed]",
      "text/plain": [
       "<Figure size 432x288 with 1 Axes>"
      ]
     },
     "metadata": {
      "needs_background": "light"
     },
     "output_type": "display_data"
    }
   ],
   "source": [
    "# Let's check the employment days column (this column is recorded in negative digits and in days)\n",
    "train_df[\"DAYS_EMPLOYED\"].plot.hist(title = \"Days of employment\")"
   ]
  },
  {
   "cell_type": "code",
   "execution_count": 65,
   "id": "fce58c73",
   "metadata": {},
   "outputs": [
    {
     "data": {
      "text/plain": [
       "<AxesSubplot:title={'center':'Days of employment'}, ylabel='Frequency'>"
      ]
     },
     "execution_count": 65,
     "metadata": {},
     "output_type": "execute_result"
    },
    {
     "data": {
      "image/png": "[encoded data removed]",
      "text/plain": [
       "<Figure size 432x288 with 1 Axes>"
      ]
     },
     "metadata": {
      "needs_background": "light"
     },
     "output_type": "display_data"
    }
   ],
   "source": [
    "test_df[\"DAYS_EMPLOYED\"].plot.hist(title = \"Days of employment\")"
   ]
  },
  {
   "cell_type": "markdown",
   "id": "a7b45757",
   "metadata": {},
   "source": [
    "We notice the huge difference between the classes of employment days. Here the second class represents many instances where the number of days employed is above 350 000 (exactly 365 243) which is about 1000 years. Clearly these are anomalous values and they will be adjusted later on. "
   ]
  },
  {
   "cell_type": "code",
   "execution_count": 66,
   "id": "a50b297e",
   "metadata": {},
   "outputs": [],
   "source": [
    "train_df['DAYS_BIRTH'] = abs(train_df['DAYS_BIRTH'])\n",
    "test_df['DAYS_BIRTH'] = abs(test_df['DAYS_BIRTH'])"
   ]
  },
  {
   "cell_type": "code",
   "execution_count": 67,
   "id": "e4e619ab",
   "metadata": {},
   "outputs": [
    {
     "data": {
      "text/plain": [
       "Text(0, 0.5, 'Number of clients')"
      ]
     },
     "execution_count": 67,
     "metadata": {},
     "output_type": "execute_result"
    },
    {
     "data": {
      "image/png": "[encoded data removed]",
      "text/plain": [
       "<Figure size 432x288 with 1 Axes>"
      ]
     },
     "metadata": {
      "needs_background": "light"
     },
     "output_type": "display_data"
    }
   ],
   "source": [
    "# A quick look at the age column \n",
    "plt.hist(train_df['DAYS_BIRTH'] / 365, edgecolor = 'k', bins = 25)\n",
    "plt.title(\"Age of clients in years\")\n",
    "plt.xlabel(\"Age\")\n",
    "plt.ylabel(\"Number of clients\")"
   ]
  },
  {
   "cell_type": "code",
   "execution_count": 68,
   "id": "250c5f62",
   "metadata": {},
   "outputs": [
    {
     "data": {
      "text/plain": [
       "<matplotlib.legend.Legend at 0x2933e6bd3a0>"
      ]
     },
     "execution_count": 68,
     "metadata": {},
     "output_type": "execute_result"
    },
    {
     "data": {
      "image/png": "[encoded data removed]",
      "text/plain": [
       "<Figure size 432x288 with 1 Axes>"
      ]
     },
     "metadata": {
      "needs_background": "light"
     },
     "output_type": "display_data"
    }
   ],
   "source": [
    "# Use KDE (Kernel Density Estimate) to see the probability density of each categorie in Target\n",
    "# Target of 0 will show its curve in blue, target of 1 will show in red\n",
    "sns.kdeplot(train_df.loc[train_df['TARGET'] == 0, 'DAYS_BIRTH'] / 365, label = 'target == 0', color = \"blue\")\n",
    "sns.kdeplot(train_df.loc[train_df['TARGET'] == 1, 'DAYS_BIRTH'] / 365, label = 'target == 1', color = \"red\")\n",
    "plt.xlabel('Age')\n",
    "plt.ylabel('Density')\n",
    "plt.title('Distribution of Ages')\n",
    "plt.legend()"
   ]
  },
  {
   "cell_type": "markdown",
   "id": "a04781a4",
   "metadata": {},
   "source": [
    "The age feature was also recorded in negatives and in days. We turned it into positive values in both the train and test set. That we took a look at the distribution of ages which looked pretty normal(between 20 and 70 years old).\n",
    "The Kernel Density estimate though shows us that this feature is important because it clearly distinguishes between the payers and the non payers. Plus it shows us that younger people tend to default on their loan more often that older ones."
   ]
  },
  {
   "cell_type": "markdown",
   "id": "44268030",
   "metadata": {},
   "source": [
    "### Feature engineering "
   ]
  },
  {
   "cell_type": "markdown",
   "id": "107fa09a",
   "metadata": {},
   "source": [
    "##### Deleting columns with more than 60% empty values"
   ]
  },
  {
   "cell_type": "code",
   "execution_count": 69,
   "id": "ffc889dd",
   "metadata": {},
   "outputs": [
    {
     "name": "stdout",
     "output_type": "stream",
     "text": [
      "<class 'pandas.core.frame.DataFrame'>\n",
      "RangeIndex: 307511 entries, 0 to 307510\n",
      "Columns: 105 entries, SK_ID_CURR to AMT_REQ_CREDIT_BUREAU_YEAR\n",
      "dtypes: float64(49), int64(41), object(15)\n",
      "memory usage: 246.3+ MB\n"
     ]
    }
   ],
   "source": [
    "m_col = list(missing_train[\"index\"])\n",
    "for col in m_col:\n",
    "    if col in train_df.columns:\n",
    "        train_df = train_df.drop([col], axis = 1)\n",
    "train_df.info()"
   ]
  },
  {
   "cell_type": "code",
   "execution_count": 70,
   "id": "7516c443",
   "metadata": {},
   "outputs": [
    {
     "name": "stdout",
     "output_type": "stream",
     "text": [
      "<class 'pandas.core.frame.DataFrame'>\n",
      "RangeIndex: 48744 entries, 0 to 48743\n",
      "Columns: 104 entries, SK_ID_CURR to AMT_REQ_CREDIT_BUREAU_YEAR\n",
      "dtypes: float64(49), int64(40), object(15)\n",
      "memory usage: 38.7+ MB\n"
     ]
    }
   ],
   "source": [
    "m_col = list(missing_test[\"index\"])\n",
    "for col in m_col:\n",
    "    if col in test_df.columns:\n",
    "        test_df = test_df.drop([col], axis = 1)\n",
    "test_df.info()"
   ]
  },
  {
   "cell_type": "markdown",
   "id": "50312d7d",
   "metadata": {},
   "source": [
    "We've deleted columns with more than 60% empty values and now have 105 columns remaining in the train set"
   ]
  },
  {
   "cell_type": "markdown",
   "id": "898acf9c",
   "metadata": {},
   "source": [
    "##### Deleting columns with several categorical features"
   ]
  },
  {
   "cell_type": "code",
   "execution_count": 71,
   "id": "870613cc",
   "metadata": {},
   "outputs": [],
   "source": [
    "train_df = train_df.drop([\"ORGANIZATION_TYPE\"], axis = 1)\n",
    "test_df = test_df.drop([\"ORGANIZATION_TYPE\"], axis = 1)"
   ]
  },
  {
   "cell_type": "code",
   "execution_count": 72,
   "id": "12d34a0c",
   "metadata": {},
   "outputs": [],
   "source": [
    "train_df = train_df.drop([\"OCCUPATION_TYPE\"], axis = 1)\n",
    "test_df = test_df.drop([\"OCCUPATION_TYPE\"], axis = 1)\n"
   ]
  },
  {
   "cell_type": "markdown",
   "id": "56201774",
   "metadata": {},
   "source": [
    "Now there are only 103 columns left in the train set "
   ]
  },
  {
   "cell_type": "markdown",
   "id": "c880f3f4",
   "metadata": {},
   "source": [
    "##### Dealing with anomalous values in the days employed column"
   ]
  },
  {
   "cell_type": "code",
   "execution_count": 73,
   "id": "bb19b762",
   "metadata": {},
   "outputs": [
    {
     "data": {
      "text/plain": [
       "<AxesSubplot:title={'center':'Days of employment train set'}, ylabel='Frequency'>"
      ]
     },
     "execution_count": 73,
     "metadata": {},
     "output_type": "execute_result"
    },
    {
     "data": {
      "image/png": "[encoded data removed]",
      "text/plain": [
       "<Figure size 432x288 with 1 Axes>"
      ]
     },
     "metadata": {
      "needs_background": "light"
     },
     "output_type": "display_data"
    }
   ],
   "source": [
    "anomalies = train_df[train_df[\"DAYS_EMPLOYED\"] >= 350000 ]\n",
    "non_an = train_df[train_df[\"DAYS_EMPLOYED\"] < 350000]\n",
    "train_df[\"DAYS_EMPLOYED_ANO\"] = train_df[\"DAYS_EMPLOYED\"] >= 350000\n",
    "train_df[\"DAYS_EMPLOYED\"].replace({365243 : np.nan}, inplace = True)\n",
    "train_df[\"DAYS_EMPLOYED\"].plot.hist(title = \"Days of employment train set\")"
   ]
  },
  {
   "cell_type": "code",
   "execution_count": 74,
   "id": "f7932d90",
   "metadata": {},
   "outputs": [
    {
     "data": {
      "text/plain": [
       "<AxesSubplot:title={'center':'Days of employment test set'}, ylabel='Frequency'>"
      ]
     },
     "execution_count": 74,
     "metadata": {},
     "output_type": "execute_result"
    },
    {
     "data": {
      "image/png": "[encoded data removed]",
      "text/plain": [
       "<Figure size 432x288 with 1 Axes>"
      ]
     },
     "metadata": {
      "needs_background": "light"
     },
     "output_type": "display_data"
    }
   ],
   "source": [
    "test_df[\"DAYS_EMPLOYED_ANO\"] = test_df[\"DAYS_EMPLOYED\"] >= 350000\n",
    "test_df[\"DAYS_EMPLOYED\"].replace({365243 : np.nan}, inplace = True)\n",
    "test_df[\"DAYS_EMPLOYED\"].plot.hist(title = \"Days of employment test set\")"
   ]
  },
  {
   "cell_type": "markdown",
   "id": "1bd7fee1",
   "metadata": {},
   "source": [
    "Instead of replacing the anomalous values with the median or mean, we've replaced them with numpy not a number and added another column that tells us whether the number was replaced or not, in order to not unbalance any potential influence those particular values might have on the target"
   ]
  },
  {
   "cell_type": "markdown",
   "id": "0d1767f0",
   "metadata": {},
   "source": [
    "##### Balancing the data using undersampling"
   ]
  },
  {
   "cell_type": "code",
   "execution_count": 75,
   "id": "9aa949cb",
   "metadata": {},
   "outputs": [
    {
     "name": "stdout",
     "output_type": "stream",
     "text": [
      "[(0, 24825), (1, 24825)] (49650,)\n"
     ]
    }
   ],
   "source": [
    "target = train_df[\"TARGET\"].copy()\n",
    "train_df.drop([\"TARGET\"], axis = 1)\n",
    "under_sampler = RandomUnderSampler(random_state=0)\n",
    "train_df, t_resampled = under_sampler.fit_resample(train_df,target)\n",
    "train_df[\"TARGET\"] = t_resampled\n",
    "print(sorted(Counter(t_resampled).items()), t_resampled.shape)"
   ]
  },
  {
   "cell_type": "code",
   "execution_count": 76,
   "id": "95937cc2",
   "metadata": {
    "scrolled": true
   },
   "outputs": [
    {
     "data": {
      "text/plain": [
       "<AxesSubplot:title={'center':'Distribution of classes'}, ylabel='Frequency'>"
      ]
     },
     "execution_count": 76,
     "metadata": {},
     "output_type": "execute_result"
    },
    {
     "data": {
      "image/png": "[encoded data removed]",
      "text/plain": [
       "<Figure size 432x288 with 1 Axes>"
      ]
     },
     "metadata": {
      "needs_background": "light"
     },
     "output_type": "display_data"
    }
   ],
   "source": [
    "train_df[\"TARGET\"].astype(int).plot.hist(title = \"Distribution of classes\")"
   ]
  },
  {
   "cell_type": "markdown",
   "id": "dd49955d",
   "metadata": {},
   "source": [
    "After applying undersapling, we have now the same amount of instances 1 and 0. "
   ]
  },
  {
   "cell_type": "markdown",
   "id": "f6ce437c",
   "metadata": {},
   "source": [
    "##### Categorical feautures encoding"
   ]
  },
  {
   "cell_type": "markdown",
   "id": "377bbab1",
   "metadata": {},
   "source": [
    "###### Label encoding "
   ]
  },
  {
   "cell_type": "code",
   "execution_count": 77,
   "id": "9782dee5",
   "metadata": {},
   "outputs": [],
   "source": [
    "train = train_df.copy()\n",
    "test = test_df.copy()\n",
    "LE = LabelEncoder()\n",
    "count = 0\n",
    "for col in train.columns: \n",
    "    if train[col].dtype == \"object\":\n",
    "        if len(list(train[col].unique())) <= 2:\n",
    "            LE.fit(train[col])\n",
    "            train[col] = LE.transform(train[col])\n",
    "            test[col] = LE.transform(test[col])\n",
    "            count += 1"
   ]
  },
  {
   "cell_type": "markdown",
   "id": "ce1b5293",
   "metadata": {},
   "source": [
    "##### One hot encoding"
   ]
  },
  {
   "cell_type": "code",
   "execution_count": 78,
   "id": "ab8c0b50",
   "metadata": {},
   "outputs": [
    {
     "data": {
      "text/plain": [
       "float64    50\n",
       "uint8      50\n",
       "int64      40\n",
       "int32       4\n",
       "bool        1\n",
       "dtype: int64"
      ]
     },
     "execution_count": 78,
     "metadata": {},
     "output_type": "execute_result"
    }
   ],
   "source": [
    "train = pd.get_dummies(train)\n",
    "test = pd.get_dummies(test)\n",
    "train.dtypes.value_counts()"
   ]
  },
  {
   "cell_type": "code",
   "execution_count": 79,
   "id": "b3521235",
   "metadata": {},
   "outputs": [
    {
     "name": "stdout",
     "output_type": "stream",
     "text": [
      "Shape of the train dateframe (49650, 143)\n"
     ]
    }
   ],
   "source": [
    "target = train[\"TARGET\"].copy()\n",
    "train = train.drop([\"TARGET\"], axis = 1)\n",
    "train, test = train.align(test, join = \"inner\", axis = 1)\n",
    "features = list(train.columns)\n",
    "train[\"TARGET\"] = target\n",
    "print(\"Shape of the train dateframe\", train.shape)"
   ]
  },
  {
   "cell_type": "code",
   "execution_count": 80,
   "id": "0e9fb9c2",
   "metadata": {},
   "outputs": [
    {
     "name": "stdout",
     "output_type": "stream",
     "text": [
      "Shape of the test dataframe (48744, 142)\n"
     ]
    }
   ],
   "source": [
    "print(\"Shape of the test dataframe\", test.shape)"
   ]
  },
  {
   "cell_type": "markdown",
   "id": "e27bf6cf",
   "metadata": {},
   "source": [
    "We performed label encoding on columns with two categories and one hot encoding on columns with more than two classes. After that, we aligned the train and test sets to contain the same columns (except for target) "
   ]
  },
  {
   "cell_type": "markdown",
   "id": "fe50aecd",
   "metadata": {},
   "source": [
    "#### Imputing empty values with the median"
   ]
  },
  {
   "cell_type": "code",
   "execution_count": 81,
   "id": "87402b5f",
   "metadata": {},
   "outputs": [],
   "source": [
    "train = train.drop([\"TARGET\"], axis = 1)\n",
    "imputer = SimpleImputer(strategy = 'median')\n",
    "imputer.fit(train)\n",
    "train = imputer.transform(train)\n",
    "test = imputer.transform(test)"
   ]
  },
  {
   "cell_type": "markdown",
   "id": "c673617e",
   "metadata": {},
   "source": [
    "#### Scaling numerical values using normalization"
   ]
  },
  {
   "cell_type": "code",
   "execution_count": 82,
   "id": "c6a9773e",
   "metadata": {},
   "outputs": [],
   "source": [
    "scaler = MinMaxScaler(feature_range = (0, 1))\n",
    "scaler.fit(train)\n",
    "train = scaler.transform(train)\n",
    "test = scaler.transform(test)"
   ]
  },
  {
   "cell_type": "markdown",
   "id": "fd13e7bd",
   "metadata": {},
   "source": [
    "#### Features importances"
   ]
  },
  {
   "cell_type": "code",
   "execution_count": 83,
   "id": "31c168a9",
   "metadata": {},
   "outputs": [
    {
     "name": "stderr",
     "output_type": "stream",
     "text": [
      "[Parallel(n_jobs=-1)]: Using backend ThreadingBackend with 4 concurrent workers.\n",
      "[Parallel(n_jobs=-1)]: Done  42 tasks      | elapsed:    2.8s\n",
      "[Parallel(n_jobs=-1)]: Done 100 out of 100 | elapsed:    6.5s finished\n"
     ]
    },
    {
     "data": {
      "text/html": [
       "<div>\n",
       "<style scoped>\n",
       "    .dataframe tbody tr th:only-of-type {\n",
       "        vertical-align: middle;\n",
       "    }\n",
       "\n",
       "    .dataframe tbody tr th {\n",
       "        vertical-align: top;\n",
       "    }\n",
       "\n",
       "    .dataframe thead th {\n",
       "        text-align: right;\n",
       "    }\n",
       "</style>\n",
       "<table border=\"1\" class=\"dataframe\">\n",
       "  <thead>\n",
       "    <tr style=\"text-align: right;\">\n",
       "      <th></th>\n",
       "      <th>index</th>\n",
       "      <th>feature</th>\n",
       "      <th>importance</th>\n",
       "    </tr>\n",
       "  </thead>\n",
       "  <tbody>\n",
       "    <tr>\n",
       "      <th>0</th>\n",
       "      <td>33</td>\n",
       "      <td>EXT_SOURCE_3</td>\n",
       "      <td>0.071455</td>\n",
       "    </tr>\n",
       "    <tr>\n",
       "      <th>1</th>\n",
       "      <td>32</td>\n",
       "      <td>EXT_SOURCE_2</td>\n",
       "      <td>0.068275</td>\n",
       "    </tr>\n",
       "    <tr>\n",
       "      <th>2</th>\n",
       "      <td>11</td>\n",
       "      <td>DAYS_BIRTH</td>\n",
       "      <td>0.037687</td>\n",
       "    </tr>\n",
       "    <tr>\n",
       "      <th>3</th>\n",
       "      <td>12</td>\n",
       "      <td>DAYS_EMPLOYED</td>\n",
       "      <td>0.036689</td>\n",
       "    </tr>\n",
       "    <tr>\n",
       "      <th>4</th>\n",
       "      <td>14</td>\n",
       "      <td>DAYS_ID_PUBLISH</td>\n",
       "      <td>0.033864</td>\n",
       "    </tr>\n",
       "    <tr>\n",
       "      <th>5</th>\n",
       "      <td>13</td>\n",
       "      <td>DAYS_REGISTRATION</td>\n",
       "      <td>0.032948</td>\n",
       "    </tr>\n",
       "    <tr>\n",
       "      <th>6</th>\n",
       "      <td>66</td>\n",
       "      <td>DAYS_LAST_PHONE_CHANGE</td>\n",
       "      <td>0.032679</td>\n",
       "    </tr>\n",
       "    <tr>\n",
       "      <th>7</th>\n",
       "      <td>8</td>\n",
       "      <td>AMT_ANNUITY</td>\n",
       "      <td>0.032219</td>\n",
       "    </tr>\n",
       "    <tr>\n",
       "      <th>8</th>\n",
       "      <td>0</td>\n",
       "      <td>SK_ID_CURR</td>\n",
       "      <td>0.031618</td>\n",
       "    </tr>\n",
       "    <tr>\n",
       "      <th>9</th>\n",
       "      <td>31</td>\n",
       "      <td>EXT_SOURCE_1</td>\n",
       "      <td>0.031157</td>\n",
       "    </tr>\n",
       "    <tr>\n",
       "      <th>10</th>\n",
       "      <td>7</td>\n",
       "      <td>AMT_CREDIT</td>\n",
       "      <td>0.031124</td>\n",
       "    </tr>\n",
       "    <tr>\n",
       "      <th>11</th>\n",
       "      <td>9</td>\n",
       "      <td>AMT_GOODS_PRICE</td>\n",
       "      <td>0.028244</td>\n",
       "    </tr>\n",
       "    <tr>\n",
       "      <th>12</th>\n",
       "      <td>10</td>\n",
       "      <td>REGION_POPULATION_RELATIVE</td>\n",
       "      <td>0.026939</td>\n",
       "    </tr>\n",
       "    <tr>\n",
       "      <th>13</th>\n",
       "      <td>6</td>\n",
       "      <td>AMT_INCOME_TOTAL</td>\n",
       "      <td>0.025366</td>\n",
       "    </tr>\n",
       "    <tr>\n",
       "      <th>14</th>\n",
       "      <td>24</td>\n",
       "      <td>HOUR_APPR_PROCESS_START</td>\n",
       "      <td>0.022231</td>\n",
       "    </tr>\n",
       "  </tbody>\n",
       "</table>\n",
       "</div>"
      ],
      "text/plain": [
       "    index                     feature  importance\n",
       "0      33                EXT_SOURCE_3    0.071455\n",
       "1      32                EXT_SOURCE_2    0.068275\n",
       "2      11                  DAYS_BIRTH    0.037687\n",
       "3      12               DAYS_EMPLOYED    0.036689\n",
       "4      14             DAYS_ID_PUBLISH    0.033864\n",
       "5      13           DAYS_REGISTRATION    0.032948\n",
       "6      66      DAYS_LAST_PHONE_CHANGE    0.032679\n",
       "7       8                 AMT_ANNUITY    0.032219\n",
       "8       0                  SK_ID_CURR    0.031618\n",
       "9      31                EXT_SOURCE_1    0.031157\n",
       "10      7                  AMT_CREDIT    0.031124\n",
       "11      9             AMT_GOODS_PRICE    0.028244\n",
       "12     10  REGION_POPULATION_RELATIVE    0.026939\n",
       "13      6            AMT_INCOME_TOTAL    0.025366\n",
       "14     24     HOUR_APPR_PROCESS_START    0.022231"
      ]
     },
     "execution_count": 83,
     "metadata": {},
     "output_type": "execute_result"
    }
   ],
   "source": [
    "# Get feature importances into a dataset\n",
    "random_forest = RandomForestClassifier(n_estimators = 100, random_state = 50, verbose = 1, n_jobs = -1)\n",
    "random_forest.fit(train,target)\n",
    "ft_imp = random_forest.feature_importances_\n",
    "imp_df = pd.DataFrame({\"feature\": features,\"importance\": ft_imp})\n",
    "imp_df = imp_df.sort_values(by = [\"importance\"], ascending = False).reset_index()\n",
    "imp_df.head(15)"
   ]
  },
  {
   "cell_type": "code",
   "execution_count": 84,
   "id": "25f0faf4",
   "metadata": {},
   "outputs": [
    {
     "data": {
      "image/png": "[encoded data removed]",
      "text/plain": [
       "<Figure size 720x432 with 1 Axes>"
      ]
     },
     "metadata": {
      "needs_background": "light"
     },
     "output_type": "display_data"
    }
   ],
   "source": [
    "# Plot the 15 most important features\n",
    "def plot_ft_imp(df):\n",
    "    df['importance_normalized'] = df['importance'] / df['importance'].sum()\n",
    "    plt.figure(figsize = (10, 6))\n",
    "    ax = plt.subplot()\n",
    "    ax.barh(list(reversed(list(df.index[:15]))), \n",
    "            df['importance_normalized'].head(15), \n",
    "            align = 'center', edgecolor = 'k')\n",
    "    ax.set_yticks(list(reversed(list(df.index[:15]))))\n",
    "    ax.set_yticklabels(df['feature'].head(15))\n",
    "    plt.xlabel('Normalized Importance'); plt.title('Feature Importances')\n",
    "    plt.show()\n",
    "    \n",
    "    return df\n",
    "# Apply it to our case\n",
    "bar_plot = plot_ft_imp(imp_df)"
   ]
  },
  {
   "cell_type": "markdown",
   "id": "7178fb22",
   "metadata": {},
   "source": [
    "According to random forest's feature importances, the external source 3 and 2 are the two most important ones. We'll try Boruta's algorithm too and see if the results match "
   ]
  },
  {
   "cell_type": "markdown",
   "id": "28971702",
   "metadata": {},
   "source": [
    "#### Boruta's all relevant features algorithm"
   ]
  },
  {
   "cell_type": "code",
   "execution_count": 85,
   "id": "ea4802cf",
   "metadata": {},
   "outputs": [
    {
     "name": "stderr",
     "output_type": "stream",
     "text": [
      "[Parallel(n_jobs=-1)]: Using backend ThreadingBackend with 4 concurrent workers.\n",
      "[Parallel(n_jobs=-1)]: Done  42 tasks      | elapsed:    4.4s\n",
      "[Parallel(n_jobs=-1)]: Done 168 out of 168 | elapsed:   17.6s finished\n"
     ]
    },
    {
     "name": "stdout",
     "output_type": "stream",
     "text": [
      "Iteration: \t1 / 100\n",
      "Confirmed: \t0\n",
      "Tentative: \t142\n",
      "Rejected: \t0\n"
     ]
    },
    {
     "name": "stderr",
     "output_type": "stream",
     "text": [
      "[Parallel(n_jobs=-1)]: Using backend ThreadingBackend with 4 concurrent workers.\n",
      "[Parallel(n_jobs=-1)]: Done  42 tasks      | elapsed:    4.3s\n",
      "[Parallel(n_jobs=-1)]: Done 168 out of 168 | elapsed:   18.1s finished\n"
     ]
    },
    {
     "name": "stdout",
     "output_type": "stream",
     "text": [
      "Iteration: \t2 / 100\n",
      "Confirmed: \t0\n",
      "Tentative: \t142\n",
      "Rejected: \t0\n"
     ]
    },
    {
     "name": "stderr",
     "output_type": "stream",
     "text": [
      "[Parallel(n_jobs=-1)]: Using backend ThreadingBackend with 4 concurrent workers.\n",
      "[Parallel(n_jobs=-1)]: Done  42 tasks      | elapsed:    4.4s\n",
      "[Parallel(n_jobs=-1)]: Done 168 out of 168 | elapsed:   17.9s finished\n"
     ]
    },
    {
     "name": "stdout",
     "output_type": "stream",
     "text": [
      "Iteration: \t3 / 100\n",
      "Confirmed: \t0\n",
      "Tentative: \t142\n",
      "Rejected: \t0\n"
     ]
    },
    {
     "name": "stderr",
     "output_type": "stream",
     "text": [
      "[Parallel(n_jobs=-1)]: Using backend ThreadingBackend with 4 concurrent workers.\n",
      "[Parallel(n_jobs=-1)]: Done  42 tasks      | elapsed:    4.5s\n",
      "[Parallel(n_jobs=-1)]: Done 168 out of 168 | elapsed:   17.2s finished\n"
     ]
    },
    {
     "name": "stdout",
     "output_type": "stream",
     "text": [
      "Iteration: \t4 / 100\n",
      "Confirmed: \t0\n",
      "Tentative: \t142\n",
      "Rejected: \t0\n"
     ]
    },
    {
     "name": "stderr",
     "output_type": "stream",
     "text": [
      "[Parallel(n_jobs=-1)]: Using backend ThreadingBackend with 4 concurrent workers.\n",
      "[Parallel(n_jobs=-1)]: Done  42 tasks      | elapsed:    4.3s\n",
      "[Parallel(n_jobs=-1)]: Done 168 out of 168 | elapsed:   17.6s finished\n"
     ]
    },
    {
     "name": "stdout",
     "output_type": "stream",
     "text": [
      "Iteration: \t5 / 100\n",
      "Confirmed: \t0\n",
      "Tentative: \t142\n",
      "Rejected: \t0\n"
     ]
    },
    {
     "name": "stderr",
     "output_type": "stream",
     "text": [
      "[Parallel(n_jobs=-1)]: Using backend ThreadingBackend with 4 concurrent workers.\n",
      "[Parallel(n_jobs=-1)]: Done  42 tasks      | elapsed:    4.3s\n",
      "[Parallel(n_jobs=-1)]: Done 168 out of 168 | elapsed:   17.0s finished\n"
     ]
    },
    {
     "name": "stdout",
     "output_type": "stream",
     "text": [
      "Iteration: \t6 / 100\n",
      "Confirmed: \t0\n",
      "Tentative: \t142\n",
      "Rejected: \t0\n"
     ]
    },
    {
     "name": "stderr",
     "output_type": "stream",
     "text": [
      "[Parallel(n_jobs=-1)]: Using backend ThreadingBackend with 4 concurrent workers.\n",
      "[Parallel(n_jobs=-1)]: Done  42 tasks      | elapsed:    4.2s\n",
      "[Parallel(n_jobs=-1)]: Done 168 out of 168 | elapsed:   16.8s finished\n"
     ]
    },
    {
     "name": "stdout",
     "output_type": "stream",
     "text": [
      "Iteration: \t7 / 100\n",
      "Confirmed: \t0\n",
      "Tentative: \t142\n",
      "Rejected: \t0\n"
     ]
    },
    {
     "name": "stderr",
     "output_type": "stream",
     "text": [
      "[Parallel(n_jobs=-1)]: Using backend ThreadingBackend with 4 concurrent workers.\n",
      "[Parallel(n_jobs=-1)]: Done  42 tasks      | elapsed:    4.3s\n",
      "[Parallel(n_jobs=-1)]: Done 168 out of 168 | elapsed:   17.2s finished\n",
      "[Parallel(n_jobs=-1)]: Using backend ThreadingBackend with 4 concurrent workers.\n"
     ]
    },
    {
     "name": "stdout",
     "output_type": "stream",
     "text": [
      "Iteration: \t8 / 100\n",
      "Confirmed: \t0\n",
      "Tentative: \t12\n",
      "Rejected: \t130\n"
     ]
    },
    {
     "name": "stderr",
     "output_type": "stream",
     "text": [
      "[Parallel(n_jobs=-1)]: Done  48 out of  48 | elapsed:    3.1s finished\n",
      "[Parallel(n_jobs=-1)]: Using backend ThreadingBackend with 4 concurrent workers.\n"
     ]
    },
    {
     "name": "stdout",
     "output_type": "stream",
     "text": [
      "Iteration: \t9 / 100\n",
      "Confirmed: \t8\n",
      "Tentative: \t4\n",
      "Rejected: \t130\n"
     ]
    },
    {
     "name": "stderr",
     "output_type": "stream",
     "text": [
      "[Parallel(n_jobs=-1)]: Done  48 out of  48 | elapsed:    3.2s finished\n",
      "[Parallel(n_jobs=-1)]: Using backend ThreadingBackend with 4 concurrent workers.\n"
     ]
    },
    {
     "name": "stdout",
     "output_type": "stream",
     "text": [
      "Iteration: \t10 / 100\n",
      "Confirmed: \t8\n",
      "Tentative: \t4\n",
      "Rejected: \t130\n"
     ]
    },
    {
     "name": "stderr",
     "output_type": "stream",
     "text": [
      "[Parallel(n_jobs=-1)]: Done  48 out of  48 | elapsed:    2.9s finished\n",
      "[Parallel(n_jobs=-1)]: Using backend ThreadingBackend with 4 concurrent workers.\n"
     ]
    },
    {
     "name": "stdout",
     "output_type": "stream",
     "text": [
      "Iteration: \t11 / 100\n",
      "Confirmed: \t8\n",
      "Tentative: \t4\n",
      "Rejected: \t130\n"
     ]
    },
    {
     "name": "stderr",
     "output_type": "stream",
     "text": [
      "[Parallel(n_jobs=-1)]: Done  48 out of  48 | elapsed:    3.0s finished\n",
      "[Parallel(n_jobs=-1)]: Using backend ThreadingBackend with 4 concurrent workers.\n"
     ]
    },
    {
     "name": "stdout",
     "output_type": "stream",
     "text": [
      "Iteration: \t12 / 100\n",
      "Confirmed: \t8\n",
      "Tentative: \t4\n",
      "Rejected: \t130\n"
     ]
    },
    {
     "name": "stderr",
     "output_type": "stream",
     "text": [
      "[Parallel(n_jobs=-1)]: Done  48 out of  48 | elapsed:    3.0s finished\n",
      "[Parallel(n_jobs=-1)]: Using backend ThreadingBackend with 4 concurrent workers.\n"
     ]
    },
    {
     "name": "stdout",
     "output_type": "stream",
     "text": [
      "Iteration: \t13 / 100\n",
      "Confirmed: \t8\n",
      "Tentative: \t4\n",
      "Rejected: \t130\n"
     ]
    },
    {
     "name": "stderr",
     "output_type": "stream",
     "text": [
      "[Parallel(n_jobs=-1)]: Done  48 out of  48 | elapsed:    3.0s finished\n",
      "[Parallel(n_jobs=-1)]: Using backend ThreadingBackend with 4 concurrent workers.\n"
     ]
    },
    {
     "name": "stdout",
     "output_type": "stream",
     "text": [
      "Iteration: \t14 / 100\n",
      "Confirmed: \t8\n",
      "Tentative: \t4\n",
      "Rejected: \t130\n"
     ]
    },
    {
     "name": "stderr",
     "output_type": "stream",
     "text": [
      "[Parallel(n_jobs=-1)]: Done  48 out of  48 | elapsed:    3.0s finished\n",
      "[Parallel(n_jobs=-1)]: Using backend ThreadingBackend with 4 concurrent workers.\n"
     ]
    },
    {
     "name": "stdout",
     "output_type": "stream",
     "text": [
      "Iteration: \t15 / 100\n",
      "Confirmed: \t8\n",
      "Tentative: \t4\n",
      "Rejected: \t130\n"
     ]
    },
    {
     "name": "stderr",
     "output_type": "stream",
     "text": [
      "[Parallel(n_jobs=-1)]: Done  48 out of  48 | elapsed:    3.1s finished\n",
      "[Parallel(n_jobs=-1)]: Using backend ThreadingBackend with 4 concurrent workers.\n"
     ]
    },
    {
     "name": "stdout",
     "output_type": "stream",
     "text": [
      "Iteration: \t16 / 100\n",
      "Confirmed: \t8\n",
      "Tentative: \t4\n",
      "Rejected: \t130\n"
     ]
    },
    {
     "name": "stderr",
     "output_type": "stream",
     "text": [
      "[Parallel(n_jobs=-1)]: Done  48 out of  48 | elapsed:    3.0s finished\n",
      "[Parallel(n_jobs=-1)]: Using backend ThreadingBackend with 4 concurrent workers.\n"
     ]
    },
    {
     "name": "stdout",
     "output_type": "stream",
     "text": [
      "Iteration: \t17 / 100\n",
      "Confirmed: \t8\n",
      "Tentative: \t4\n",
      "Rejected: \t130\n"
     ]
    },
    {
     "name": "stderr",
     "output_type": "stream",
     "text": [
      "[Parallel(n_jobs=-1)]: Done  48 out of  48 | elapsed:    3.0s finished\n"
     ]
    },
    {
     "name": "stdout",
     "output_type": "stream",
     "text": [
      "Iteration: \t18 / 100\n",
      "Confirmed: \t8\n",
      "Tentative: \t4\n",
      "Rejected: \t130\n"
     ]
    },
    {
     "name": "stderr",
     "output_type": "stream",
     "text": [
      "[Parallel(n_jobs=-1)]: Using backend ThreadingBackend with 4 concurrent workers.\n",
      "[Parallel(n_jobs=-1)]: Done  48 out of  48 | elapsed:    3.0s finished\n",
      "[Parallel(n_jobs=-1)]: Using backend ThreadingBackend with 4 concurrent workers.\n"
     ]
    },
    {
     "name": "stdout",
     "output_type": "stream",
     "text": [
      "Iteration: \t19 / 100\n",
      "Confirmed: \t8\n",
      "Tentative: \t3\n",
      "Rejected: \t131\n"
     ]
    },
    {
     "name": "stderr",
     "output_type": "stream",
     "text": [
      "[Parallel(n_jobs=-1)]: Done  46 out of  46 | elapsed:    2.8s finished\n",
      "[Parallel(n_jobs=-1)]: Using backend ThreadingBackend with 4 concurrent workers.\n"
     ]
    },
    {
     "name": "stdout",
     "output_type": "stream",
     "text": [
      "Iteration: \t20 / 100\n",
      "Confirmed: \t8\n",
      "Tentative: \t3\n",
      "Rejected: \t131\n"
     ]
    },
    {
     "name": "stderr",
     "output_type": "stream",
     "text": [
      "[Parallel(n_jobs=-1)]: Done  46 out of  46 | elapsed:    2.7s finished\n",
      "[Parallel(n_jobs=-1)]: Using backend ThreadingBackend with 4 concurrent workers.\n"
     ]
    },
    {
     "name": "stdout",
     "output_type": "stream",
     "text": [
      "Iteration: \t21 / 100\n",
      "Confirmed: \t8\n",
      "Tentative: \t3\n",
      "Rejected: \t131\n"
     ]
    },
    {
     "name": "stderr",
     "output_type": "stream",
     "text": [
      "[Parallel(n_jobs=-1)]: Done  46 out of  46 | elapsed:    2.7s finished\n",
      "[Parallel(n_jobs=-1)]: Using backend ThreadingBackend with 4 concurrent workers.\n"
     ]
    },
    {
     "name": "stdout",
     "output_type": "stream",
     "text": [
      "Iteration: \t22 / 100\n",
      "Confirmed: \t8\n",
      "Tentative: \t3\n",
      "Rejected: \t131\n"
     ]
    },
    {
     "name": "stderr",
     "output_type": "stream",
     "text": [
      "[Parallel(n_jobs=-1)]: Done  46 out of  46 | elapsed:    2.7s finished\n",
      "[Parallel(n_jobs=-1)]: Using backend ThreadingBackend with 4 concurrent workers.\n"
     ]
    },
    {
     "name": "stdout",
     "output_type": "stream",
     "text": [
      "Iteration: \t23 / 100\n",
      "Confirmed: \t8\n",
      "Tentative: \t3\n",
      "Rejected: \t131\n"
     ]
    },
    {
     "name": "stderr",
     "output_type": "stream",
     "text": [
      "[Parallel(n_jobs=-1)]: Done  46 out of  46 | elapsed:    3.1s finished\n",
      "[Parallel(n_jobs=-1)]: Using backend ThreadingBackend with 4 concurrent workers.\n"
     ]
    },
    {
     "name": "stdout",
     "output_type": "stream",
     "text": [
      "Iteration: \t24 / 100\n",
      "Confirmed: \t8\n",
      "Tentative: \t3\n",
      "Rejected: \t131\n"
     ]
    },
    {
     "name": "stderr",
     "output_type": "stream",
     "text": [
      "[Parallel(n_jobs=-1)]: Done  46 out of  46 | elapsed:    3.3s finished\n",
      "[Parallel(n_jobs=-1)]: Using backend ThreadingBackend with 4 concurrent workers.\n"
     ]
    },
    {
     "name": "stdout",
     "output_type": "stream",
     "text": [
      "Iteration: \t25 / 100\n",
      "Confirmed: \t8\n",
      "Tentative: \t3\n",
      "Rejected: \t131\n"
     ]
    },
    {
     "name": "stderr",
     "output_type": "stream",
     "text": [
      "[Parallel(n_jobs=-1)]: Done  46 out of  46 | elapsed:    3.4s finished\n",
      "[Parallel(n_jobs=-1)]: Using backend ThreadingBackend with 4 concurrent workers.\n"
     ]
    },
    {
     "name": "stdout",
     "output_type": "stream",
     "text": [
      "Iteration: \t26 / 100\n",
      "Confirmed: \t8\n",
      "Tentative: \t3\n",
      "Rejected: \t131\n"
     ]
    },
    {
     "name": "stderr",
     "output_type": "stream",
     "text": [
      "[Parallel(n_jobs=-1)]: Done  46 out of  46 | elapsed:    3.4s finished\n",
      "[Parallel(n_jobs=-1)]: Using backend ThreadingBackend with 4 concurrent workers.\n"
     ]
    },
    {
     "name": "stdout",
     "output_type": "stream",
     "text": [
      "Iteration: \t27 / 100\n",
      "Confirmed: \t8\n",
      "Tentative: \t3\n",
      "Rejected: \t131\n"
     ]
    },
    {
     "name": "stderr",
     "output_type": "stream",
     "text": [
      "[Parallel(n_jobs=-1)]: Done  46 out of  46 | elapsed:    3.1s finished\n",
      "[Parallel(n_jobs=-1)]: Using backend ThreadingBackend with 4 concurrent workers.\n"
     ]
    },
    {
     "name": "stdout",
     "output_type": "stream",
     "text": [
      "Iteration: \t28 / 100\n",
      "Confirmed: \t8\n",
      "Tentative: \t3\n",
      "Rejected: \t131\n"
     ]
    },
    {
     "name": "stderr",
     "output_type": "stream",
     "text": [
      "[Parallel(n_jobs=-1)]: Done  46 out of  46 | elapsed:    2.8s finished\n",
      "[Parallel(n_jobs=-1)]: Using backend ThreadingBackend with 4 concurrent workers.\n"
     ]
    },
    {
     "name": "stdout",
     "output_type": "stream",
     "text": [
      "Iteration: \t29 / 100\n",
      "Confirmed: \t8\n",
      "Tentative: \t3\n",
      "Rejected: \t131\n"
     ]
    },
    {
     "name": "stderr",
     "output_type": "stream",
     "text": [
      "[Parallel(n_jobs=-1)]: Done  46 out of  46 | elapsed:    3.0s finished\n",
      "[Parallel(n_jobs=-1)]: Using backend ThreadingBackend with 4 concurrent workers.\n"
     ]
    },
    {
     "name": "stdout",
     "output_type": "stream",
     "text": [
      "Iteration: \t30 / 100\n",
      "Confirmed: \t8\n",
      "Tentative: \t3\n",
      "Rejected: \t131\n"
     ]
    },
    {
     "name": "stderr",
     "output_type": "stream",
     "text": [
      "[Parallel(n_jobs=-1)]: Done  46 out of  46 | elapsed:    2.6s finished\n",
      "[Parallel(n_jobs=-1)]: Using backend ThreadingBackend with 4 concurrent workers.\n"
     ]
    },
    {
     "name": "stdout",
     "output_type": "stream",
     "text": [
      "Iteration: \t31 / 100\n",
      "Confirmed: \t8\n",
      "Tentative: \t3\n",
      "Rejected: \t131\n"
     ]
    },
    {
     "name": "stderr",
     "output_type": "stream",
     "text": [
      "[Parallel(n_jobs=-1)]: Done  46 out of  46 | elapsed:    3.3s finished\n",
      "[Parallel(n_jobs=-1)]: Using backend ThreadingBackend with 4 concurrent workers.\n"
     ]
    },
    {
     "name": "stdout",
     "output_type": "stream",
     "text": [
      "Iteration: \t32 / 100\n",
      "Confirmed: \t8\n",
      "Tentative: \t3\n",
      "Rejected: \t131\n"
     ]
    },
    {
     "name": "stderr",
     "output_type": "stream",
     "text": [
      "[Parallel(n_jobs=-1)]: Done  46 out of  46 | elapsed:    3.6s finished\n",
      "[Parallel(n_jobs=-1)]: Using backend ThreadingBackend with 4 concurrent workers.\n"
     ]
    },
    {
     "name": "stdout",
     "output_type": "stream",
     "text": [
      "Iteration: \t33 / 100\n",
      "Confirmed: \t8\n",
      "Tentative: \t3\n",
      "Rejected: \t131\n",
      "Iteration: \t34 / 100\n",
      "Confirmed: \t8\n",
      "Tentative: \t0\n",
      "Rejected: \t134\n",
      "\n",
      "\n",
      "BorutaPy finished running.\n",
      "\n",
      "Iteration: \t35 / 100\n",
      "Confirmed: \t8\n",
      "Tentative: \t0\n",
      "Rejected: \t134\n"
     ]
    },
    {
     "name": "stderr",
     "output_type": "stream",
     "text": [
      "[Parallel(n_jobs=-1)]: Done  46 out of  46 | elapsed:    2.8s finished\n"
     ]
    },
    {
     "data": {
      "text/plain": [
       "BorutaPy(estimator=RandomForestClassifier(n_estimators=46, n_jobs=-1,\n",
       "                                          random_state=RandomState(MT19937) at 0x29316FAE540,\n",
       "                                          verbose=1),\n",
       "         n_estimators='auto',\n",
       "         random_state=RandomState(MT19937) at 0x29316FAE540, verbose=2)"
      ]
     },
     "execution_count": 85,
     "metadata": {},
     "output_type": "execute_result"
    }
   ],
   "source": [
    "from boruta import BorutaPy\n",
    "ft_selector = BorutaPy(random_forest, n_estimators='auto', verbose=2, random_state=1)\n",
    "X = train.copy()\n",
    "y = target.copy()\n",
    "ft_selector.fit(X,y)"
   ]
  },
  {
   "cell_type": "code",
   "execution_count": 86,
   "id": "875d80fb",
   "metadata": {},
   "outputs": [
    {
     "name": "stdout",
     "output_type": "stream",
     "text": [
      "Strongly connected features: ['AMT_ANNUITY', 'DAYS_BIRTH', 'DAYS_EMPLOYED', 'DAYS_REGISTRATION', 'DAYS_ID_PUBLISH', 'EXT_SOURCE_1', 'EXT_SOURCE_2', 'EXT_SOURCE_3']\n"
     ]
    }
   ],
   "source": [
    "# Take a look at relevant the most features \n",
    "strong = list()\n",
    "indexes = np.where(ft_selector.support_ == True)\n",
    "for x in np.nditer(indexes):\n",
    "    strong.append(features[x])\n",
    "print(\"Strongly connected features:\", strong)"
   ]
  },
  {
   "cell_type": "code",
   "execution_count": 87,
   "id": "1f7109c7",
   "metadata": {},
   "outputs": [
    {
     "name": "stdout",
     "output_type": "stream",
     "text": [
      "<class 'pandas.core.frame.DataFrame'>\n",
      "RangeIndex: 49650 entries, 0 to 49649\n",
      "Data columns (total 10 columns):\n",
      " #   Column             Non-Null Count  Dtype  \n",
      "---  ------             --------------  -----  \n",
      " 0   AMT_ANNUITY        49649 non-null  float64\n",
      " 1   DAYS_BIRTH         49650 non-null  int64  \n",
      " 2   DAYS_EMPLOYED      42003 non-null  float64\n",
      " 3   DAYS_REGISTRATION  49650 non-null  float64\n",
      " 4   DAYS_ID_PUBLISH    49650 non-null  int64  \n",
      " 5   EXT_SOURCE_1       20964 non-null  float64\n",
      " 6   EXT_SOURCE_2       49541 non-null  float64\n",
      " 7   EXT_SOURCE_3       39104 non-null  float64\n",
      " 8   SK_ID_CURR         49650 non-null  int64  \n",
      " 9   TARGET             49650 non-null  int64  \n",
      "dtypes: float64(6), int64(4)\n",
      "memory usage: 3.8 MB\n"
     ]
    }
   ],
   "source": [
    "# Keep only relevant features in the train set \n",
    "ids = train_df[[\"SK_ID_CURR\"]].copy()\n",
    "for ft in train_df.columns:\n",
    "    if ft not in strong:\n",
    "        train_df = train_df.drop([ft], axis = 1)\n",
    "train_df[\"SK_ID_CURR\"] = ids\n",
    "train_df[\"TARGET\"] = target\n",
    "train_df.info()"
   ]
  },
  {
   "cell_type": "code",
   "execution_count": 88,
   "id": "516a9420",
   "metadata": {},
   "outputs": [
    {
     "name": "stdout",
     "output_type": "stream",
     "text": [
      "<class 'pandas.core.frame.DataFrame'>\n",
      "RangeIndex: 48744 entries, 0 to 48743\n",
      "Data columns (total 9 columns):\n",
      " #   Column             Non-Null Count  Dtype  \n",
      "---  ------             --------------  -----  \n",
      " 0   AMT_ANNUITY        48720 non-null  float64\n",
      " 1   DAYS_BIRTH         48744 non-null  int64  \n",
      " 2   DAYS_EMPLOYED      39470 non-null  float64\n",
      " 3   DAYS_REGISTRATION  48744 non-null  float64\n",
      " 4   DAYS_ID_PUBLISH    48744 non-null  int64  \n",
      " 5   EXT_SOURCE_1       28212 non-null  float64\n",
      " 6   EXT_SOURCE_2       48736 non-null  float64\n",
      " 7   EXT_SOURCE_3       40076 non-null  float64\n",
      " 8   SK_ID_CURR         48744 non-null  int64  \n",
      "dtypes: float64(6), int64(3)\n",
      "memory usage: 3.3 MB\n"
     ]
    }
   ],
   "source": [
    "# Keep only relevant features in the test set\n",
    "ids_test = test_df[[\"SK_ID_CURR\"]].copy()\n",
    "for ft in test_df.columns:\n",
    "    if ft not in strong:\n",
    "        test_df = test_df.drop([ft], axis = 1)\n",
    "test_df[\"SK_ID_CURR\"] = ids\n",
    "test_df.info()"
   ]
  },
  {
   "cell_type": "markdown",
   "id": "eda1a98c",
   "metadata": {},
   "source": [
    "We notice that the features picked by Boruta are the same as those picked by feature importances. The selecled features are the only ones kept in the both the train and test sets. Now let's check correlations"
   ]
  },
  {
   "cell_type": "markdown",
   "id": "85b90738",
   "metadata": {},
   "source": [
    "##### Linear Correlations"
   ]
  },
  {
   "cell_type": "code",
   "execution_count": 89,
   "id": "6f2bb3f9",
   "metadata": {},
   "outputs": [
    {
     "data": {
      "text/plain": [
       "Text(0.5, 1.0, 'Correlation map')"
      ]
     },
     "execution_count": 89,
     "metadata": {},
     "output_type": "execute_result"
    },
    {
     "data": {
      "image/png": "[encoded data removed]",
      "text/plain": [
       "<Figure size 720x864 with 2 Axes>"
      ]
     },
     "metadata": {
      "needs_background": "light"
     },
     "output_type": "display_data"
    }
   ],
   "source": [
    "corr = train_df.corr()\n",
    "plt.figure(figsize = (10,12))\n",
    "sns.heatmap(corr, annot = True, vmin = -0.25)\n",
    "plt.title(\"Correlation map\")"
   ]
  },
  {
   "cell_type": "code",
   "execution_count": 90,
   "id": "6a34f471",
   "metadata": {},
   "outputs": [
    {
     "data": {
      "text/plain": [
       "TARGET               1.000000\n",
       "DAYS_EMPLOYED        0.145963\n",
       "DAYS_ID_PUBLISH      0.092979\n",
       "DAYS_REGISTRATION    0.078065\n",
       "SK_ID_CURR          -0.001214\n",
       "AMT_ANNUITY         -0.028583\n",
       "DAYS_BIRTH          -0.146646\n",
       "EXT_SOURCE_2        -0.273014\n",
       "EXT_SOURCE_1        -0.288011\n",
       "EXT_SOURCE_3        -0.314028\n",
       "Name: TARGET, dtype: float64"
      ]
     },
     "execution_count": 90,
     "metadata": {},
     "output_type": "execute_result"
    }
   ],
   "source": [
    "corr[\"TARGET\"].sort_values(ascending = False)"
   ]
  },
  {
   "cell_type": "markdown",
   "id": "c843bf38",
   "metadata": {},
   "source": [
    "Linear correlations are the strongest between the target and the extra sources 1, 2 and 3. "
   ]
  },
  {
   "cell_type": "markdown",
   "id": "33b21d30",
   "metadata": {},
   "source": [
    "### Logistic Regression "
   ]
  },
  {
   "cell_type": "markdown",
   "id": "6004f7a0",
   "metadata": {},
   "source": [
    "##### Spliting the train set "
   ]
  },
  {
   "cell_type": "code",
   "execution_count": 91,
   "id": "03e2c37e",
   "metadata": {},
   "outputs": [],
   "source": [
    "train_set, test_set = train_test_split(train_df, test_size = 0.2,random_state = 42)"
   ]
  },
  {
   "cell_type": "markdown",
   "id": "6a0ca219",
   "metadata": {},
   "source": [
    "#### Seperating the target from the sets"
   ]
  },
  {
   "cell_type": "code",
   "execution_count": 92,
   "id": "cc8883a1",
   "metadata": {},
   "outputs": [],
   "source": [
    "train_set_labels = train_set[\"TARGET\"].copy()\n",
    "train_set = train_set.drop(\"TARGET\", axis = 1)\n",
    "test_set_labels = test_set[\"TARGET\"].copy()\n",
    "test_set = test_set.drop(\"TARGET\", axis = 1)"
   ]
  },
  {
   "cell_type": "markdown",
   "id": "cd0012ee",
   "metadata": {},
   "source": [
    "##### Filling empty values"
   ]
  },
  {
   "cell_type": "code",
   "execution_count": 93,
   "id": "8187682d",
   "metadata": {},
   "outputs": [],
   "source": [
    "imputer.fit(train_set)\n",
    "train_set = imputer.transform(train_set)\n",
    "test_set = imputer.transform(test_set)"
   ]
  },
  {
   "cell_type": "markdown",
   "id": "4b7d8f9c",
   "metadata": {},
   "source": [
    "##### Scaling data"
   ]
  },
  {
   "cell_type": "code",
   "execution_count": 94,
   "id": "24f986bb",
   "metadata": {},
   "outputs": [],
   "source": [
    "scaler.fit(train_set)\n",
    "train_set = scaler.transform(train_set)\n",
    "test_set = scaler.transform(test_set)"
   ]
  },
  {
   "cell_type": "markdown",
   "id": "55d066c2",
   "metadata": {},
   "source": [
    "##### Applying the model"
   ]
  },
  {
   "cell_type": "code",
   "execution_count": 95,
   "id": "48558da6",
   "metadata": {},
   "outputs": [],
   "source": [
    "log_reg_ = LogisticRegression(C = 0.0001)\n",
    "log_reg_.fit(train_set, train_set_labels)\n",
    "reg_predictions_ = log_reg_.predict(test_set)"
   ]
  },
  {
   "cell_type": "markdown",
   "id": "ffeb4e9c",
   "metadata": {},
   "source": [
    "##### AUC ROC Curve"
   ]
  },
  {
   "cell_type": "code",
   "execution_count": 96,
   "id": "9fb1f9e2",
   "metadata": {},
   "outputs": [
    {
     "data": {
      "image/png": "[encoded data removed]",
      "text/plain": [
       "<Figure size 800x600 with 1 Axes>"
      ]
     },
     "metadata": {
      "needs_background": "light"
     },
     "output_type": "display_data"
    }
   ],
   "source": [
    "auc_log = metrics.roc_auc_score(test_set_labels, reg_predictions_)\n",
    "\n",
    "false_positive_rate, true_positive_rate, thresolds = metrics.roc_curve(test_set_labels, reg_predictions_)\n",
    "\n",
    "plt.figure(figsize=(8, 6), dpi=100)\n",
    "plt.axis('scaled')\n",
    "plt.xlim([0, 1])\n",
    "plt.ylim([0, 1])\n",
    "plt.title(\"AUC & ROC Curve\")\n",
    "plt.plot(false_positive_rate, true_positive_rate, 'g')\n",
    "plt.fill_between(false_positive_rate, true_positive_rate, facecolor='lightgreen', alpha=0.7)\n",
    "plt.text(0.95, 0.05, 'AUC = %0.4f' % auc_log, ha='right', fontsize=12, weight='bold', color='blue')\n",
    "plt.xlabel(\"False Positive Rate\")\n",
    "plt.ylabel(\"True Positive Rate\")\n",
    "plt.show()"
   ]
  },
  {
   "cell_type": "markdown",
   "id": "cb9b5fa4",
   "metadata": {},
   "source": [
    "##### Confusion matrix"
   ]
  },
  {
   "cell_type": "code",
   "execution_count": 97,
   "id": "0b278dda",
   "metadata": {},
   "outputs": [
    {
     "data": {
      "image/png": "[encoded data removed]",
      "text/plain": [
       "<Figure size 576x576 with 1 Axes>"
      ]
     },
     "metadata": {
      "needs_background": "light"
     },
     "output_type": "display_data"
    }
   ],
   "source": [
    "cm_ = confusion_matrix(test_set_labels,reg_predictions_)\n",
    "fig, ax = plt.subplots(figsize=(8, 8))\n",
    "ax.imshow(cm_)\n",
    "ax.grid(False)\n",
    "ax.xaxis.set(ticks=(0, 1), ticklabels=('Predicted 0s', 'Predicted 1s'))\n",
    "ax.yaxis.set(ticks=(0, 1), ticklabels=('Actual 0s', 'Actual 1s'))\n",
    "ax.set_ylim(1.5, -0.5)\n",
    "for i in range(2):\n",
    "    for j in range(2):\n",
    "        ax.text(j, i, cm_[i, j], ha='center', va='center', color='red')"
   ]
  },
  {
   "cell_type": "markdown",
   "id": "c48b7ede",
   "metadata": {},
   "source": [
    "##### Classification report"
   ]
  },
  {
   "cell_type": "code",
   "execution_count": 98,
   "id": "10462f26",
   "metadata": {},
   "outputs": [
    {
     "name": "stdout",
     "output_type": "stream",
     "text": [
      "              precision    recall  f1-score   support\n",
      "\n",
      "           0       0.65      0.69      0.67      4953\n",
      "           1       0.67      0.64      0.65      4977\n",
      "\n",
      "    accuracy                           0.66      9930\n",
      "   macro avg       0.66      0.66      0.66      9930\n",
      "weighted avg       0.66      0.66      0.66      9930\n",
      "\n"
     ]
    }
   ],
   "source": [
    "cr = classification_report(test_set_labels, reg_predictions_)\n",
    "print(cr)"
   ]
  },
  {
   "cell_type": "markdown",
   "id": "3b364c40",
   "metadata": {},
   "source": [
    "In this part we created a dataset only with the selected features of Boruta. We preprocessed the set and applied a Logistic Regression algorithm with a slight modification of the paramaters. \n",
    "The Auc Roc curve shows that the model's classification ability is minimum. The confusion matrix gives us an idea of the distribution of True postives/negatives and  False positives/negatives.\n",
    "The model's accuracy is about 0,66 which mean out of all the instances predicted, 66% were correctly predicted.\n",
    "Precision is 0,65 for class 0, which means that out of all the instances for which the model predicted 0, 65% of them were actualy 0.\n",
    "Recall is 0.69 for class 0, which means that out of all the instances that actually have a target of 0, 69% were predicted correctly by our model.\n",
    "This is not bad result for a base line model. Next we'll try Random Forest classifier "
   ]
  },
  {
   "cell_type": "markdown",
   "id": "aaa3c7f3",
   "metadata": {},
   "source": [
    "### Random Forest Classifier"
   ]
  },
  {
   "cell_type": "markdown",
   "id": "955a655b",
   "metadata": {},
   "source": [
    "#### Tuning and training the model"
   ]
  },
  {
   "cell_type": "code",
   "execution_count": 99,
   "id": "186cf7ab",
   "metadata": {},
   "outputs": [
    {
     "name": "stdout",
     "output_type": "stream",
     "text": [
      "{'bootstrap': True,\n",
      " 'ccp_alpha': 0.0,\n",
      " 'class_weight': None,\n",
      " 'criterion': 'gini',\n",
      " 'max_depth': None,\n",
      " 'max_features': 'auto',\n",
      " 'max_leaf_nodes': None,\n",
      " 'max_samples': None,\n",
      " 'min_impurity_decrease': 0.0,\n",
      " 'min_samples_leaf': 1,\n",
      " 'min_samples_split': 2,\n",
      " 'min_weight_fraction_leaf': 0.0,\n",
      " 'n_estimators': 100,\n",
      " 'n_jobs': None,\n",
      " 'oob_score': False,\n",
      " 'random_state': 42,\n",
      " 'verbose': 0,\n",
      " 'warm_start': False}\n"
     ]
    }
   ],
   "source": [
    "# Import the model with its default parameters\n",
    "ran_for = RandomForestClassifier(random_state = 42)\n",
    "pprint(ran_for.get_params())"
   ]
  },
  {
   "cell_type": "code",
   "execution_count": 100,
   "id": "dd62a128",
   "metadata": {},
   "outputs": [],
   "source": [
    "# Define hyperparameters to try out \n",
    "\n",
    "# Number of trees in random forest\n",
    "n_estimators = [int(x) for x in np.linspace(start = 200, stop = 2000, num = 10)]\n",
    "# Number of features to consider at every split\n",
    "max_features = ['auto', 'sqrt']\n",
    "# Maximum number of levels in tree\n",
    "max_depth = [int(x) for x in np.linspace(10, 110, num = 11)]\n",
    "max_depth.append(None)\n",
    "# Minimum number of samples required to split a node\n",
    "min_samples_split = [2, 5, 10]\n",
    "# Minimum number of samples required at each leaf node\n",
    "min_samples_leaf = [1, 2, 4]\n",
    "# Method of selecting samples for training each tree\n",
    "bootstrap = [True, False]"
   ]
  },
  {
   "cell_type": "markdown",
   "id": "9097a789",
   "metadata": {},
   "source": [
    "##### Randomized grid search "
   ]
  },
  {
   "cell_type": "code",
   "execution_count": 101,
   "id": "b8ef6c10",
   "metadata": {},
   "outputs": [
    {
     "name": "stdout",
     "output_type": "stream",
     "text": [
      "{'bootstrap': [True, False],\n",
      " 'max_depth': [10, 20, 30, 40, 50, 60, 70, 80, 90, 100, 110, None],\n",
      " 'max_features': ['auto', 'sqrt'],\n",
      " 'min_samples_leaf': [1, 2, 4],\n",
      " 'min_samples_split': [2, 5, 10],\n",
      " 'n_estimators': [200, 400, 600, 800, 1000, 1200, 1400, 1600, 1800, 2000]}\n"
     ]
    }
   ],
   "source": [
    "# Create the random grid\n",
    "random_grid = {'n_estimators': n_estimators,\n",
    "               'max_features': max_features,\n",
    "               'max_depth': max_depth,\n",
    "               'min_samples_split': min_samples_split,\n",
    "               'min_samples_leaf': min_samples_leaf,\n",
    "               'bootstrap': bootstrap}\n",
    "pprint(random_grid)"
   ]
  },
  {
   "cell_type": "code",
   "execution_count": 103,
   "id": "d84d189a",
   "metadata": {},
   "outputs": [
    {
     "name": "stdout",
     "output_type": "stream",
     "text": [
      "Fitting 3 folds for each of 100 candidates, totalling 300 fits\n"
     ]
    },
    {
     "data": {
      "text/plain": [
       "RandomizedSearchCV(cv=3, estimator=RandomForestClassifier(random_state=42),\n",
       "                   n_iter=100, n_jobs=-1,\n",
       "                   param_distributions={'bootstrap': [True, False],\n",
       "                                        'max_depth': [10, 20, 30, 40, 50, 60,\n",
       "                                                      70, 80, 90, 100, 110,\n",
       "                                                      None],\n",
       "                                        'max_features': ['auto', 'sqrt'],\n",
       "                                        'min_samples_leaf': [1, 2, 4],\n",
       "                                        'min_samples_split': [2, 5, 10],\n",
       "                                        'n_estimators': [200, 400, 600, 800,\n",
       "                                                         1000, 1200, 1400, 1600,\n",
       "                                                         1800, 2000]},\n",
       "                   random_state=42, verbose=2)"
      ]
     },
     "execution_count": 103,
     "metadata": {},
     "output_type": "execute_result"
    }
   ],
   "source": [
    "# Use the random grid to search for best hyperparameters\n",
    "# Random search of parameters, using 3 fold cross validation, \n",
    "# search across 100 different combinations, and use all available cores\n",
    "rf_random = RandomizedSearchCV(estimator = ran_for, param_distributions = random_grid, n_iter = 100, cv = 3,\n",
    "                               verbose=2, random_state=42, n_jobs = -1)\n",
    "# Fit the random search model\n",
    "rf_random.fit(train_set, train_set_labels)"
   ]
  },
  {
   "cell_type": "code",
   "execution_count": 105,
   "id": "fb3efd10",
   "metadata": {},
   "outputs": [
    {
     "data": {
      "text/plain": [
       "RandomForestClassifier(max_depth=10, max_features='sqrt', min_samples_leaf=4,\n",
       "                       n_estimators=400, random_state=42)"
      ]
     },
     "execution_count": 105,
     "metadata": {},
     "output_type": "execute_result"
    }
   ],
   "source": [
    "# Extract the best parameters\n",
    "best_rf = rf_random.best_estimator_\n",
    "best_rf"
   ]
  },
  {
   "cell_type": "code",
   "execution_count": 107,
   "id": "3d4fe52a",
   "metadata": {},
   "outputs": [],
   "source": [
    "# Make predictions\n",
    "rf_pred = best_rf.predict(test_set)"
   ]
  },
  {
   "cell_type": "markdown",
   "id": "25257229",
   "metadata": {},
   "source": [
    "Here we first imported Random Forest Classifier and took a look at its default parameters. Since the default parameters are rarely the best ones to use, we did a grid search and came up with the best combination of parameters that yields the best results"
   ]
  },
  {
   "cell_type": "markdown",
   "id": "02e23438",
   "metadata": {},
   "source": [
    "##### AUC ROC CURVE"
   ]
  },
  {
   "cell_type": "code",
   "execution_count": 108,
   "id": "d9bc47f6",
   "metadata": {},
   "outputs": [
    {
     "data": {
      "image/png": "[encoded data removed]",
      "text/plain": [
       "<Figure size 800x600 with 1 Axes>"
      ]
     },
     "metadata": {
      "needs_background": "light"
     },
     "output_type": "display_data"
    }
   ],
   "source": [
    "auc_rf = metrics.roc_auc_score(test_set_labels, rf_pred)\n",
    "\n",
    "false_positive_rate, true_positive_rate, thresolds = metrics.roc_curve(test_set_labels, rf_pred)\n",
    "\n",
    "plt.figure(figsize=(8, 6), dpi=100)\n",
    "plt.axis('scaled')\n",
    "plt.xlim([0, 1])\n",
    "plt.ylim([0, 1])\n",
    "plt.title(\"AUC & ROC Curve Random Forest Classifier\")\n",
    "plt.plot(false_positive_rate, true_positive_rate, 'g')\n",
    "plt.fill_between(false_positive_rate, true_positive_rate, facecolor='lightgreen', alpha=0.7)\n",
    "plt.text(0.95, 0.05, 'AUC = %0.4f' % auc_rf, ha='right', fontsize=12, weight='bold', color='blue')\n",
    "plt.xlabel(\"False Positive Rate\")\n",
    "plt.ylabel(\"True Positive Rate\")\n",
    "plt.show()"
   ]
  },
  {
   "cell_type": "markdown",
   "id": "e372b680",
   "metadata": {},
   "source": [
    "##### Confusion matrix"
   ]
  },
  {
   "cell_type": "code",
   "execution_count": 119,
   "id": "12064210",
   "metadata": {},
   "outputs": [
    {
     "data": {
      "image/png": "[encoded data removed]",
      "text/plain": [
       "<Figure size 576x576 with 1 Axes>"
      ]
     },
     "metadata": {
      "needs_background": "light"
     },
     "output_type": "display_data"
    }
   ],
   "source": [
    "cm_rf = confusion_matrix(test_set_labels,rf_pred)\n",
    "fig, ax = plt.subplots(figsize=(8, 8))\n",
    "ax.imshow(cm_rf)\n",
    "ax.grid(False)\n",
    "ax.xaxis.set(ticks=(0, 1), ticklabels=('Predicted 0s', 'Predicted 1s'))\n",
    "ax.yaxis.set(ticks=(0, 1), ticklabels=('Actual 0s', 'Actual 1s'))\n",
    "ax.set_ylim(1.5, -0.5)\n",
    "for i in range(2):\n",
    "    for j in range(2):\n",
    "        ax.text(j, i, cm_rf[i, j], ha='center', va='center', color='red')"
   ]
  },
  {
   "cell_type": "markdown",
   "id": "8f3364c9",
   "metadata": {},
   "source": [
    "##### Classification report"
   ]
  },
  {
   "cell_type": "code",
   "execution_count": 110,
   "id": "873444e7",
   "metadata": {},
   "outputs": [
    {
     "name": "stdout",
     "output_type": "stream",
     "text": [
      "              precision    recall  f1-score   support\n",
      "\n",
      "           0       0.68      0.68      0.68      4953\n",
      "           1       0.68      0.67      0.68      4977\n",
      "\n",
      "    accuracy                           0.68      9930\n",
      "   macro avg       0.68      0.68      0.68      9930\n",
      "weighted avg       0.68      0.68      0.68      9930\n",
      "\n"
     ]
    }
   ],
   "source": [
    "cr_rf = classification_report(test_set_labels, rf_pred)\n",
    "print(cr_rf)"
   ]
  },
  {
   "cell_type": "markdown",
   "id": "ba40cadf",
   "metadata": {},
   "source": [
    "The Auc Roc curve shows that the model's classification ability is slightly better that that of Logistic regression. The confusion matrix gives us an idea of the distribution of True postives/negatives and False positives/negatives, and we see that the false positives are less than the previous model.\n",
    "The model's accuracy is about 0,68 which mean out of all the instances predicted, 68% were correctly predicted.\n",
    "Precision is 0,68 for class 0, which means that out of all the instances for which the model predicted 0, 68% of them were actualy 0.\n",
    "Recall is 0.68 for class 0, which means that out of all the instances that actually have a target of 0,68% were predicted correctly by our model."
   ]
  },
  {
   "cell_type": "markdown",
   "id": "273b2e42",
   "metadata": {},
   "source": [
    "### XGBoost"
   ]
  },
  {
   "cell_type": "markdown",
   "id": "5fdc43a0",
   "metadata": {},
   "source": [
    "##### Grid Search "
   ]
  },
  {
   "cell_type": "code",
   "execution_count": 111,
   "id": "9278ba4d",
   "metadata": {},
   "outputs": [],
   "source": [
    "# Tune the hyperparameters of the algirthm using grid search \n",
    "# Set constant parameters of the classifier\n",
    "estimator = xgb.XGBClassifier(\n",
    "    objective= 'binary:logistic',\n",
    "    nthread=4,\n",
    "    seed=42,\n",
    "    use_label_encoder=False,\n",
    "    eval_metric='mlogloss'\n",
    ")"
   ]
  },
  {
   "cell_type": "code",
   "execution_count": 112,
   "id": "3ed76e6a",
   "metadata": {},
   "outputs": [],
   "source": [
    "# Specify tunable parameters and range of values\n",
    "parameters = {\n",
    "    'max_depth': range (2, 10, 1),\n",
    "    'n_estimators': range(60, 220, 40),\n",
    "    'learning_rate': [0.1, 0.01, 0.05]\n",
    "}"
   ]
  },
  {
   "cell_type": "code",
   "execution_count": 113,
   "id": "54c71935",
   "metadata": {},
   "outputs": [],
   "source": [
    "# Configure the grid search and compare the results\n",
    "grid_search = GridSearchCV(\n",
    "    estimator=estimator,\n",
    "    param_grid=parameters,\n",
    "    scoring = 'roc_auc',\n",
    "    n_jobs = 10,\n",
    "    cv = 10,\n",
    "    verbose=True\n",
    ")"
   ]
  },
  {
   "cell_type": "code",
   "execution_count": 114,
   "id": "5a598dac",
   "metadata": {},
   "outputs": [
    {
     "name": "stdout",
     "output_type": "stream",
     "text": [
      "Fitting 10 folds for each of 96 candidates, totalling 960 fits\n"
     ]
    },
    {
     "data": {
      "text/plain": [
       "GridSearchCV(cv=10,\n",
       "             estimator=XGBClassifier(base_score=None, booster=None,\n",
       "                                     colsample_bylevel=None,\n",
       "                                     colsample_bynode=None,\n",
       "                                     colsample_bytree=None,\n",
       "                                     enable_categorical=False,\n",
       "                                     eval_metric='mlogloss', gamma=None,\n",
       "                                     gpu_id=None, importance_type=None,\n",
       "                                     interaction_constraints=None,\n",
       "                                     learning_rate=None, max_delta_step=None,\n",
       "                                     max_depth=None, min_child_weight=None,\n",
       "                                     missing=nan, mo...\n",
       "                                     n_estimators=100, n_jobs=None, nthread=4,\n",
       "                                     num_parallel_tree=None, predictor=None,\n",
       "                                     random_state=None, reg_alpha=None,\n",
       "                                     reg_lambda=None, scale_pos_weight=None,\n",
       "                                     seed=42, subsample=None, tree_method=None,\n",
       "                                     use_label_encoder=False, ...),\n",
       "             n_jobs=10,\n",
       "             param_grid={'learning_rate': [0.1, 0.01, 0.05],\n",
       "                         'max_depth': range(2, 10),\n",
       "                         'n_estimators': range(60, 220, 40)},\n",
       "             scoring='roc_auc', verbose=True)"
      ]
     },
     "execution_count": 114,
     "metadata": {},
     "output_type": "execute_result"
    }
   ],
   "source": [
    "# Train the data\n",
    "grid_search.fit(train_set, train_set_labels)"
   ]
  },
  {
   "cell_type": "code",
   "execution_count": 117,
   "id": "53145083",
   "metadata": {},
   "outputs": [],
   "source": [
    "# Get the best parameters and predict test set\n",
    "best_xgb = grid_search.best_estimator_\n",
    "xgb_pred = best_xgb.predict(test_set)"
   ]
  },
  {
   "cell_type": "markdown",
   "id": "2f91a9ee",
   "metadata": {},
   "source": [
    "##### AUC ROC CURVE"
   ]
  },
  {
   "cell_type": "code",
   "execution_count": 118,
   "id": "cb984ea7",
   "metadata": {},
   "outputs": [
    {
     "data": {
      "image/png": "[encoded data removed]",
      "text/plain": [
       "<Figure size 800x600 with 1 Axes>"
      ]
     },
     "metadata": {
      "needs_background": "light"
     },
     "output_type": "display_data"
    }
   ],
   "source": [
    "auc_xgb = metrics.roc_auc_score(test_set_labels, xgb_pred)\n",
    "\n",
    "false_positive_rate, true_positive_rate, thresolds = metrics.roc_curve(test_set_labels, xgb_pred)\n",
    "\n",
    "plt.figure(figsize=(8, 6), dpi=100)\n",
    "plt.axis('scaled')\n",
    "plt.xlim([0, 1])\n",
    "plt.ylim([0, 1])\n",
    "plt.title(\"AUC & ROC Curve XGBoost\")\n",
    "plt.plot(false_positive_rate, true_positive_rate, 'g')\n",
    "plt.fill_between(false_positive_rate, true_positive_rate, facecolor='lightgreen', alpha=0.7)\n",
    "plt.text(0.95, 0.05, 'AUC = %0.4f' % auc_xgb, ha='right', fontsize=12, weight='bold', color='blue')\n",
    "plt.xlabel(\"False Positive Rate\")\n",
    "plt.ylabel(\"True Positive Rate\")\n",
    "plt.show()"
   ]
  },
  {
   "cell_type": "markdown",
   "id": "78f2ce7c",
   "metadata": {},
   "source": [
    "##### Confusion matrix"
   ]
  },
  {
   "cell_type": "code",
   "execution_count": 120,
   "id": "be04dd29",
   "metadata": {},
   "outputs": [
    {
     "data": {
      "image/png": "[encoded data removed]",
      "text/plain": [
       "<Figure size 576x576 with 1 Axes>"
      ]
     },
     "metadata": {
      "needs_background": "light"
     },
     "output_type": "display_data"
    }
   ],
   "source": [
    "cm_xgb = confusion_matrix(test_set_labels,xgb_pred)\n",
    "fig, ax = plt.subplots(figsize=(8, 8))\n",
    "ax.imshow(cm_xgb)\n",
    "ax.grid(False)\n",
    "ax.xaxis.set(ticks=(0, 1), ticklabels=('Predicted 0s', 'Predicted 1s'))\n",
    "ax.yaxis.set(ticks=(0, 1), ticklabels=('Actual 0s', 'Actual 1s'))\n",
    "ax.set_ylim(1.5, -0.5)\n",
    "for i in range(2):\n",
    "    for j in range(2):\n",
    "        ax.text(j, i, cm_xgb[i, j], ha='center', va='center', color='red')"
   ]
  },
  {
   "cell_type": "markdown",
   "id": "a8a40bd4",
   "metadata": {},
   "source": [
    "##### Classification report "
   ]
  },
  {
   "cell_type": "code",
   "execution_count": 122,
   "id": "8358683e",
   "metadata": {},
   "outputs": [
    {
     "name": "stdout",
     "output_type": "stream",
     "text": [
      "              precision    recall  f1-score   support\n",
      "\n",
      "           0       0.68      0.68      0.68      4953\n",
      "           1       0.68      0.68      0.68      4977\n",
      "\n",
      "    accuracy                           0.68      9930\n",
      "   macro avg       0.68      0.68      0.68      9930\n",
      "weighted avg       0.68      0.68      0.68      9930\n",
      "\n"
     ]
    }
   ],
   "source": [
    "cr_xgb = classification_report(test_set_labels, xgb_pred)\n",
    "print(cr_xgb)"
   ]
  },
  {
   "cell_type": "markdown",
   "id": "6e70b207",
   "metadata": {},
   "source": [
    "For XGB, we performed the grid search first as well. The Auc Roc curve shows that the model's classification ability is slightly better that that of Random Forest Classifier. The confusion matrix gives us an idea of the distribution of True postives/negatives and False positives/negatives, and we see that the false positives are less than the previous model. The model's accuracy is about 0,68 which mean out of all the instances predicted, 68% were correctly predicted. Precision is 0,68 for class 0, which means that out of all the instances for which the model predicted 0, 68% of them were actualy 0. Recall is 0.68 for class 0, which means that out of all the instances that actually have a target of 0,68% were predicted correctly by our model."
   ]
  },
  {
   "cell_type": "markdown",
   "id": "83ca58bd",
   "metadata": {},
   "source": [
    "### Support vector machine"
   ]
  },
  {
   "cell_type": "markdown",
   "id": "30dd65a6",
   "metadata": {},
   "source": [
    "##### Grid Search "
   ]
  },
  {
   "cell_type": "code",
   "execution_count": 123,
   "id": "c88030f2",
   "metadata": {},
   "outputs": [
    {
     "name": "stdout",
     "output_type": "stream",
     "text": [
      "Fitting 5 folds for each of 25 candidates, totalling 125 fits\n",
      "[CV 1/5] END ........C=0.1, gamma=1, kernel=rbf;, score=0.667 total time=  52.6s\n",
      "[CV 2/5] END ........C=0.1, gamma=1, kernel=rbf;, score=0.671 total time=  53.1s\n",
      "[CV 3/5] END ........C=0.1, gamma=1, kernel=rbf;, score=0.675 total time=  54.7s\n",
      "[CV 4/5] END ........C=0.1, gamma=1, kernel=rbf;, score=0.670 total time=  54.2s\n",
      "[CV 5/5] END ........C=0.1, gamma=1, kernel=rbf;, score=0.665 total time=  53.8s\n",
      "[CV 1/5] END ......C=0.1, gamma=0.1, kernel=rbf;, score=0.663 total time=  52.2s\n",
      "[CV 2/5] END ......C=0.1, gamma=0.1, kernel=rbf;, score=0.670 total time=  53.6s\n",
      "[CV 3/5] END ......C=0.1, gamma=0.1, kernel=rbf;, score=0.670 total time=  54.8s\n",
      "[CV 4/5] END ......C=0.1, gamma=0.1, kernel=rbf;, score=0.667 total time=  56.3s\n",
      "[CV 5/5] END ......C=0.1, gamma=0.1, kernel=rbf;, score=0.663 total time=  55.6s\n",
      "[CV 1/5] END .....C=0.1, gamma=0.01, kernel=rbf;, score=0.658 total time=  42.8s\n",
      "[CV 2/5] END .....C=0.1, gamma=0.01, kernel=rbf;, score=0.663 total time=  42.1s\n",
      "[CV 3/5] END .....C=0.1, gamma=0.01, kernel=rbf;, score=0.666 total time=  43.1s\n",
      "[CV 4/5] END .....C=0.1, gamma=0.01, kernel=rbf;, score=0.659 total time=  41.9s\n",
      "[CV 5/5] END .....C=0.1, gamma=0.01, kernel=rbf;, score=0.657 total time=  42.0s\n",
      "[CV 1/5] END ....C=0.1, gamma=0.001, kernel=rbf;, score=0.501 total time=  46.9s\n",
      "[CV 2/5] END ....C=0.1, gamma=0.001, kernel=rbf;, score=0.500 total time=  47.3s\n",
      "[CV 3/5] END ....C=0.1, gamma=0.001, kernel=rbf;, score=0.501 total time=  47.1s\n",
      "[CV 4/5] END ....C=0.1, gamma=0.001, kernel=rbf;, score=0.502 total time=  46.9s\n",
      "[CV 5/5] END ....C=0.1, gamma=0.001, kernel=rbf;, score=0.501 total time=  47.1s\n",
      "[CV 1/5] END ...C=0.1, gamma=0.0001, kernel=rbf;, score=0.500 total time=  47.0s\n",
      "[CV 2/5] END ...C=0.1, gamma=0.0001, kernel=rbf;, score=0.500 total time=  47.4s\n",
      "[CV 3/5] END ...C=0.1, gamma=0.0001, kernel=rbf;, score=0.500 total time=  47.5s\n",
      "[CV 4/5] END ...C=0.1, gamma=0.0001, kernel=rbf;, score=0.500 total time=  46.7s\n",
      "[CV 5/5] END ...C=0.1, gamma=0.0001, kernel=rbf;, score=0.500 total time=  47.5s\n",
      "[CV 1/5] END ..........C=1, gamma=1, kernel=rbf;, score=0.667 total time=  39.1s\n",
      "[CV 2/5] END ..........C=1, gamma=1, kernel=rbf;, score=0.672 total time=  38.5s\n",
      "[CV 3/5] END ..........C=1, gamma=1, kernel=rbf;, score=0.674 total time=  39.1s\n",
      "[CV 4/5] END ..........C=1, gamma=1, kernel=rbf;, score=0.668 total time=  36.8s\n",
      "[CV 5/5] END ..........C=1, gamma=1, kernel=rbf;, score=0.666 total time=  37.0s\n",
      "[CV 1/5] END ........C=1, gamma=0.1, kernel=rbf;, score=0.666 total time=  38.4s\n",
      "[CV 2/5] END ........C=1, gamma=0.1, kernel=rbf;, score=0.673 total time=  38.0s\n",
      "[CV 3/5] END ........C=1, gamma=0.1, kernel=rbf;, score=0.670 total time=  38.1s\n",
      "[CV 4/5] END ........C=1, gamma=0.1, kernel=rbf;, score=0.670 total time=  38.1s\n",
      "[CV 5/5] END ........C=1, gamma=0.1, kernel=rbf;, score=0.664 total time=  38.3s\n",
      "[CV 1/5] END .......C=1, gamma=0.01, kernel=rbf;, score=0.663 total time=  38.4s\n",
      "[CV 2/5] END .......C=1, gamma=0.01, kernel=rbf;, score=0.670 total time=  38.6s\n",
      "[CV 3/5] END .......C=1, gamma=0.01, kernel=rbf;, score=0.669 total time=  38.8s\n",
      "[CV 4/5] END .......C=1, gamma=0.01, kernel=rbf;, score=0.666 total time=  38.5s\n",
      "[CV 5/5] END .......C=1, gamma=0.01, kernel=rbf;, score=0.663 total time=  38.4s\n",
      "[CV 1/5] END ......C=1, gamma=0.001, kernel=rbf;, score=0.658 total time=  42.5s\n",
      "[CV 2/5] END ......C=1, gamma=0.001, kernel=rbf;, score=0.663 total time=  42.8s\n",
      "[CV 3/5] END ......C=1, gamma=0.001, kernel=rbf;, score=0.666 total time=  42.5s\n",
      "[CV 4/5] END ......C=1, gamma=0.001, kernel=rbf;, score=0.659 total time=  42.5s\n",
      "[CV 5/5] END ......C=1, gamma=0.001, kernel=rbf;, score=0.657 total time=  42.6s\n",
      "[CV 1/5] END .....C=1, gamma=0.0001, kernel=rbf;, score=0.501 total time=  47.3s\n",
      "[CV 2/5] END .....C=1, gamma=0.0001, kernel=rbf;, score=0.500 total time=  47.2s\n",
      "[CV 3/5] END .....C=1, gamma=0.0001, kernel=rbf;, score=0.501 total time=  47.5s\n",
      "[CV 4/5] END .....C=1, gamma=0.0001, kernel=rbf;, score=0.502 total time=  47.5s\n",
      "[CV 5/5] END .....C=1, gamma=0.0001, kernel=rbf;, score=0.501 total time=  47.7s\n",
      "[CV 1/5] END .........C=10, gamma=1, kernel=rbf;, score=0.668 total time=  43.3s\n",
      "[CV 2/5] END .........C=10, gamma=1, kernel=rbf;, score=0.672 total time=  43.7s\n",
      "[CV 3/5] END .........C=10, gamma=1, kernel=rbf;, score=0.672 total time=  43.7s\n",
      "[CV 4/5] END .........C=10, gamma=1, kernel=rbf;, score=0.668 total time=  43.2s\n",
      "[CV 5/5] END .........C=10, gamma=1, kernel=rbf;, score=0.666 total time=  43.8s\n",
      "[CV 1/5] END .......C=10, gamma=0.1, kernel=rbf;, score=0.669 total time=  38.9s\n",
      "[CV 2/5] END .......C=10, gamma=0.1, kernel=rbf;, score=0.670 total time=  38.7s\n",
      "[CV 3/5] END .......C=10, gamma=0.1, kernel=rbf;, score=0.671 total time=  39.4s\n",
      "[CV 4/5] END .......C=10, gamma=0.1, kernel=rbf;, score=0.667 total time=  38.9s\n",
      "[CV 5/5] END .......C=10, gamma=0.1, kernel=rbf;, score=0.661 total time=  39.4s\n",
      "[CV 1/5] END ......C=10, gamma=0.01, kernel=rbf;, score=0.663 total time=  39.2s\n",
      "[CV 2/5] END ......C=10, gamma=0.01, kernel=rbf;, score=0.673 total time=  38.8s\n",
      "[CV 3/5] END ......C=10, gamma=0.01, kernel=rbf;, score=0.670 total time=  39.0s\n",
      "[CV 4/5] END ......C=10, gamma=0.01, kernel=rbf;, score=0.668 total time=  39.0s\n",
      "[CV 5/5] END ......C=10, gamma=0.01, kernel=rbf;, score=0.663 total time=  38.7s\n",
      "[CV 1/5] END .....C=10, gamma=0.001, kernel=rbf;, score=0.662 total time=  39.5s\n",
      "[CV 2/5] END .....C=10, gamma=0.001, kernel=rbf;, score=0.670 total time=  39.7s\n",
      "[CV 3/5] END .....C=10, gamma=0.001, kernel=rbf;, score=0.670 total time=  39.5s\n",
      "[CV 4/5] END .....C=10, gamma=0.001, kernel=rbf;, score=0.666 total time=  39.5s\n",
      "[CV 5/5] END .....C=10, gamma=0.001, kernel=rbf;, score=0.664 total time=  40.0s\n",
      "[CV 1/5] END ....C=10, gamma=0.0001, kernel=rbf;, score=0.658 total time=  43.4s\n",
      "[CV 2/5] END ....C=10, gamma=0.0001, kernel=rbf;, score=0.663 total time=  43.0s\n",
      "[CV 3/5] END ....C=10, gamma=0.0001, kernel=rbf;, score=0.666 total time=  43.7s\n",
      "[CV 4/5] END ....C=10, gamma=0.0001, kernel=rbf;, score=0.659 total time=  43.7s\n",
      "[CV 5/5] END ....C=10, gamma=0.0001, kernel=rbf;, score=0.657 total time=  43.1s\n",
      "[CV 1/5] END ........C=100, gamma=1, kernel=rbf;, score=0.669 total time= 2.0min\n",
      "[CV 2/5] END ........C=100, gamma=1, kernel=rbf;, score=0.671 total time= 2.0min\n",
      "[CV 3/5] END ........C=100, gamma=1, kernel=rbf;, score=0.673 total time= 2.0min\n",
      "[CV 4/5] END ........C=100, gamma=1, kernel=rbf;, score=0.668 total time= 2.0min\n",
      "[CV 5/5] END ........C=100, gamma=1, kernel=rbf;, score=0.666 total time= 2.0min\n",
      "[CV 1/5] END ......C=100, gamma=0.1, kernel=rbf;, score=0.667 total time=  43.9s\n",
      "[CV 2/5] END ......C=100, gamma=0.1, kernel=rbf;, score=0.672 total time=  44.6s\n",
      "[CV 3/5] END ......C=100, gamma=0.1, kernel=rbf;, score=0.675 total time=  43.7s\n",
      "[CV 4/5] END ......C=100, gamma=0.1, kernel=rbf;, score=0.669 total time=  43.7s\n",
      "[CV 5/5] END ......C=100, gamma=0.1, kernel=rbf;, score=0.665 total time=  44.1s\n",
      "[CV 1/5] END .....C=100, gamma=0.01, kernel=rbf;, score=0.666 total time=  39.9s\n",
      "[CV 2/5] END .....C=100, gamma=0.01, kernel=rbf;, score=0.673 total time=  39.5s\n",
      "[CV 3/5] END .....C=100, gamma=0.01, kernel=rbf;, score=0.670 total time=  39.5s\n",
      "[CV 4/5] END .....C=100, gamma=0.01, kernel=rbf;, score=0.670 total time=  39.5s\n",
      "[CV 5/5] END .....C=100, gamma=0.01, kernel=rbf;, score=0.663 total time=  39.1s\n",
      "[CV 1/5] END ....C=100, gamma=0.001, kernel=rbf;, score=0.663 total time=  40.4s\n",
      "[CV 2/5] END ....C=100, gamma=0.001, kernel=rbf;, score=0.671 total time=  39.8s\n",
      "[CV 3/5] END ....C=100, gamma=0.001, kernel=rbf;, score=0.669 total time=  39.8s\n",
      "[CV 4/5] END ....C=100, gamma=0.001, kernel=rbf;, score=0.667 total time=  39.5s\n",
      "[CV 5/5] END ....C=100, gamma=0.001, kernel=rbf;, score=0.662 total time=  39.7s\n",
      "[CV 1/5] END ...C=100, gamma=0.0001, kernel=rbf;, score=0.662 total time=  39.9s\n",
      "[CV 2/5] END ...C=100, gamma=0.0001, kernel=rbf;, score=0.671 total time=  41.0s\n",
      "[CV 3/5] END ...C=100, gamma=0.0001, kernel=rbf;, score=0.670 total time=  40.7s\n",
      "[CV 4/5] END ...C=100, gamma=0.0001, kernel=rbf;, score=0.666 total time=  39.8s\n",
      "[CV 5/5] END ...C=100, gamma=0.0001, kernel=rbf;, score=0.664 total time=  39.8s\n",
      "[CV 1/5] END .......C=1000, gamma=1, kernel=rbf;, score=0.669 total time=13.2min\n"
     ]
    },
    {
     "name": "stdout",
     "output_type": "stream",
     "text": [
      "[CV 2/5] END .......C=1000, gamma=1, kernel=rbf;, score=0.667 total time=12.8min\n",
      "[CV 3/5] END .......C=1000, gamma=1, kernel=rbf;, score=0.671 total time=13.0min\n",
      "[CV 4/5] END .......C=1000, gamma=1, kernel=rbf;, score=0.665 total time=14.7min\n",
      "[CV 5/5] END .......C=1000, gamma=1, kernel=rbf;, score=0.661 total time=15.0min\n",
      "[CV 1/5] END .....C=1000, gamma=0.1, kernel=rbf;, score=0.667 total time= 2.3min\n",
      "[CV 2/5] END .....C=1000, gamma=0.1, kernel=rbf;, score=0.673 total time= 2.3min\n",
      "[CV 3/5] END .....C=1000, gamma=0.1, kernel=rbf;, score=0.674 total time= 2.3min\n",
      "[CV 4/5] END .....C=1000, gamma=0.1, kernel=rbf;, score=0.669 total time= 2.4min\n",
      "[CV 5/5] END .....C=1000, gamma=0.1, kernel=rbf;, score=0.667 total time= 2.3min\n",
      "[CV 1/5] END ....C=1000, gamma=0.01, kernel=rbf;, score=0.667 total time=  51.2s\n",
      "[CV 2/5] END ....C=1000, gamma=0.01, kernel=rbf;, score=0.672 total time=  51.4s\n",
      "[CV 3/5] END ....C=1000, gamma=0.01, kernel=rbf;, score=0.669 total time=  52.8s\n",
      "[CV 4/5] END ....C=1000, gamma=0.01, kernel=rbf;, score=0.666 total time=  47.5s\n",
      "[CV 5/5] END ....C=1000, gamma=0.01, kernel=rbf;, score=0.660 total time=  43.9s\n",
      "[CV 1/5] END ...C=1000, gamma=0.001, kernel=rbf;, score=0.664 total time=  39.9s\n",
      "[CV 2/5] END ...C=1000, gamma=0.001, kernel=rbf;, score=0.673 total time=  40.2s\n",
      "[CV 3/5] END ...C=1000, gamma=0.001, kernel=rbf;, score=0.670 total time=  40.4s\n",
      "[CV 4/5] END ...C=1000, gamma=0.001, kernel=rbf;, score=0.668 total time=  48.0s\n",
      "[CV 5/5] END ...C=1000, gamma=0.001, kernel=rbf;, score=0.663 total time=  55.8s\n",
      "[CV 1/5] END ..C=1000, gamma=0.0001, kernel=rbf;, score=0.663 total time=  44.2s\n",
      "[CV 2/5] END ..C=1000, gamma=0.0001, kernel=rbf;, score=0.670 total time=  44.8s\n",
      "[CV 3/5] END ..C=1000, gamma=0.0001, kernel=rbf;, score=0.669 total time=  43.5s\n",
      "[CV 4/5] END ..C=1000, gamma=0.0001, kernel=rbf;, score=0.667 total time=  43.9s\n",
      "[CV 5/5] END ..C=1000, gamma=0.0001, kernel=rbf;, score=0.663 total time=  43.7s\n"
     ]
    },
    {
     "data": {
      "text/plain": [
       "GridSearchCV(estimator=SVC(),\n",
       "             param_grid={'C': [0.1, 1, 10, 100, 1000],\n",
       "                         'gamma': [1, 0.1, 0.01, 0.001, 0.0001],\n",
       "                         'kernel': ['rbf']},\n",
       "             verbose=3)"
      ]
     },
     "execution_count": 123,
     "metadata": {},
     "output_type": "execute_result"
    }
   ],
   "source": [
    "from sklearn.svm import SVC\n",
    "# defining parameter range\n",
    "param_grid = {'C': [0.1, 1, 10, 100, 1000],\n",
    "              'gamma': [1, 0.1, 0.01, 0.001, 0.0001],\n",
    "              'kernel': ['rbf']}\n",
    " \n",
    "grid = GridSearchCV(SVC(), param_grid, refit = True, verbose = 3)\n",
    " \n",
    "# fitting the model for grid search\n",
    "grid.fit(train_set, train_set_labels)"
   ]
  },
  {
   "cell_type": "code",
   "execution_count": 125,
   "id": "c2dfc560",
   "metadata": {},
   "outputs": [],
   "source": [
    "svm_pred = grid.predict(test_set)"
   ]
  },
  {
   "cell_type": "markdown",
   "id": "5a3e1e49",
   "metadata": {},
   "source": [
    "##### AUC ROC Curve "
   ]
  },
  {
   "cell_type": "code",
   "execution_count": 126,
   "id": "089cfba5",
   "metadata": {},
   "outputs": [
    {
     "data": {
      "image/png": "[encoded data removed]",
      "text/plain": [
       "<Figure size 800x600 with 1 Axes>"
      ]
     },
     "metadata": {
      "needs_background": "light"
     },
     "output_type": "display_data"
    }
   ],
   "source": [
    "auc_svm = metrics.roc_auc_score(test_set_labels, svm_pred)\n",
    "\n",
    "false_positive_rate, true_positive_rate, thresolds = metrics.roc_curve(test_set_labels, svm_pred)\n",
    "\n",
    "plt.figure(figsize=(8, 6), dpi=100)\n",
    "plt.axis('scaled')\n",
    "plt.xlim([0, 1])\n",
    "plt.ylim([0, 1])\n",
    "plt.title(\"AUC & ROC Curve SVM\")\n",
    "plt.plot(false_positive_rate, true_positive_rate, 'g')\n",
    "plt.fill_between(false_positive_rate, true_positive_rate, facecolor='lightgreen', alpha=0.7)\n",
    "plt.text(0.95, 0.05, 'AUC = %0.4f' % auc_svm, ha='right', fontsize=12, weight='bold', color='blue')\n",
    "plt.xlabel(\"False Positive Rate\")\n",
    "plt.ylabel(\"True Positive Rate\")\n",
    "plt.show()"
   ]
  },
  {
   "cell_type": "markdown",
   "id": "1e8e70bc",
   "metadata": {},
   "source": [
    "##### Confusion Matrix"
   ]
  },
  {
   "cell_type": "code",
   "execution_count": 127,
   "id": "c4bdd577",
   "metadata": {},
   "outputs": [
    {
     "data": {
      "image/png": "[encoded data removed]",
      "text/plain": [
       "<Figure size 576x576 with 1 Axes>"
      ]
     },
     "metadata": {
      "needs_background": "light"
     },
     "output_type": "display_data"
    }
   ],
   "source": [
    "cm_svm = confusion_matrix(test_set_labels,svm_pred)\n",
    "fig, ax = plt.subplots(figsize=(8, 8))\n",
    "ax.imshow(cm_svm)\n",
    "ax.grid(False)\n",
    "ax.xaxis.set(ticks=(0, 1), ticklabels=('Predicted 0s', 'Predicted 1s'))\n",
    "ax.yaxis.set(ticks=(0, 1), ticklabels=('Actual 0s', 'Actual 1s'))\n",
    "ax.set_ylim(1.5, -0.5)\n",
    "for i in range(2):\n",
    "    for j in range(2):\n",
    "        ax.text(j, i, cm_svm[i, j], ha='center', va='center', color='red')"
   ]
  },
  {
   "cell_type": "markdown",
   "id": "255a8795",
   "metadata": {},
   "source": [
    "##### Classification report"
   ]
  },
  {
   "cell_type": "code",
   "execution_count": 128,
   "id": "add94609",
   "metadata": {},
   "outputs": [
    {
     "name": "stdout",
     "output_type": "stream",
     "text": [
      "              precision    recall  f1-score   support\n",
      "\n",
      "           0       0.67      0.69      0.68      4953\n",
      "           1       0.68      0.66      0.67      4977\n",
      "\n",
      "    accuracy                           0.68      9930\n",
      "   macro avg       0.68      0.68      0.68      9930\n",
      "weighted avg       0.68      0.68      0.68      9930\n",
      "\n"
     ]
    }
   ],
   "source": [
    "cr_svm = classification_report(test_set_labels, svm_pred)\n",
    "print(cr_svm)"
   ]
  },
  {
   "cell_type": "markdown",
   "id": "3668f483",
   "metadata": {},
   "source": [
    "For SVM, we performed the grid search first as well. The Auc Roc curve shows that the model's classification ability is slightly worse that that of Random Forest Classifier. The confusion matrix gives us an idea of the distribution of True postives/negatives and False positives/negatives, and we see that the false positives are more than the previous model. The model's accuracy is about 0,68 which mean out of all the instances predicted, 68% were correctly predicted. Precision is 0,67 for class 0, which means that out of all the instances for which the model predicted 0, 67% of them were actualy 0. Recall is 0.69 for class 0, which means that out of all the instances that actually have a target of 0,69% were predicted correctly by our model."
   ]
  },
  {
   "cell_type": "markdown",
   "id": "7985abd5",
   "metadata": {},
   "source": [
    "### Test data Predictions"
   ]
  },
  {
   "cell_type": "code",
   "execution_count": 136,
   "id": "bb9347ad",
   "metadata": {},
   "outputs": [],
   "source": [
    "# Filling empty values\n",
    "train_df = train_df.drop([\"TARGET\"], axis = 1)\n",
    "imputer.fit(train_df)\n",
    "test_df = imputer.transform(test_df)"
   ]
  },
  {
   "cell_type": "code",
   "execution_count": 137,
   "id": "509c72bd",
   "metadata": {},
   "outputs": [],
   "source": [
    "# Scaling data\n",
    "scaler.fit(train_df)\n",
    "test_df = scaler.transform(test_df)"
   ]
  },
  {
   "cell_type": "code",
   "execution_count": 159,
   "id": "b1f5b51d",
   "metadata": {},
   "outputs": [
    {
     "data": {
      "text/html": [
       "<div>\n",
       "<style scoped>\n",
       "    .dataframe tbody tr th:only-of-type {\n",
       "        vertical-align: middle;\n",
       "    }\n",
       "\n",
       "    .dataframe tbody tr th {\n",
       "        vertical-align: top;\n",
       "    }\n",
       "\n",
       "    .dataframe thead th {\n",
       "        text-align: right;\n",
       "    }\n",
       "</style>\n",
       "<table border=\"1\" class=\"dataframe\">\n",
       "  <thead>\n",
       "    <tr style=\"text-align: right;\">\n",
       "      <th></th>\n",
       "      <th>SK_ID_CURR</th>\n",
       "      <th>TARGET</th>\n",
       "    </tr>\n",
       "  </thead>\n",
       "  <tbody>\n",
       "    <tr>\n",
       "      <th>0</th>\n",
       "      <td>100001</td>\n",
       "      <td>0.340499</td>\n",
       "    </tr>\n",
       "    <tr>\n",
       "      <th>1</th>\n",
       "      <td>100005</td>\n",
       "      <td>0.504905</td>\n",
       "    </tr>\n",
       "    <tr>\n",
       "      <th>2</th>\n",
       "      <td>100013</td>\n",
       "      <td>0.157655</td>\n",
       "    </tr>\n",
       "    <tr>\n",
       "      <th>3</th>\n",
       "      <td>100028</td>\n",
       "      <td>0.358247</td>\n",
       "    </tr>\n",
       "    <tr>\n",
       "      <th>4</th>\n",
       "      <td>100038</td>\n",
       "      <td>0.635723</td>\n",
       "    </tr>\n",
       "  </tbody>\n",
       "</table>\n",
       "</div>"
      ],
      "text/plain": [
       "   SK_ID_CURR    TARGET\n",
       "0      100001  0.340499\n",
       "1      100005  0.504905\n",
       "2      100013  0.157655\n",
       "3      100028  0.358247\n",
       "4      100038  0.635723"
      ]
     },
     "execution_count": 159,
     "metadata": {},
     "output_type": "execute_result"
    }
   ],
   "source": [
    "# Creating the final dataframe\n",
    "final_pred = best_xgb.predict_proba(test_df)[:, 1]\n",
    "final_df = pd.DataFrame()\n",
    "final_df[\"SK_ID_CURR\"] = ids_test\n",
    "final_df[\"TARGET\"] = final_pred\n",
    "final_df.head(5)"
   ]
  },
  {
   "cell_type": "code",
   "execution_count": 160,
   "id": "fba1483e",
   "metadata": {},
   "outputs": [],
   "source": [
    "final_df.to_csv(\"XGBoost predictions.csv\", index = False)"
   ]
  },
  {
   "cell_type": "markdown",
   "id": "8ad7584f",
   "metadata": {},
   "source": [
    "### Conclusion "
   ]
  },
  {
   "cell_type": "markdown",
   "id": "a29b48a2",
   "metadata": {},
   "source": [
    "After trying out 4 models with their most suitable parameters, we see that they have slighlty different performance measure score. In our case, we've chosen XGBoost to predict the final test set because it has the highest accuracy, precision and recall scores as well as the minimum of false positives. False positives are particularily important here because it's much more serious to predict that a client would pay back when they won't, than to predict that a client wouldn't pay when they would. \n",
    "After having chosen the model, we predicted the test set and gave back the results as a csv file which contains the ids of the clients and the percentage of them defaulting on their loans as was requested. \n",
    "This is only a preliminary notebook in which we used only the train and test tests. There are other files that we'll use in future to further enhance the models."
   ]
  }
 ],
 "metadata": {
  "kernelspec": {
   "display_name": "Python 3 (ipykernel)",
   "language": "python",
   "name": "python3"
  },
  "language_info": {
   "codemirror_mode": {
    "name": "ipython",
    "version": 3
   },
   "file_extension": ".py",
   "mimetype": "text/x-python",
   "name": "python",
   "nbconvert_exporter": "python",
   "pygments_lexer": "ipython3",
   "version": "3.9.6"
  }
 },
 "nbformat": 4,
 "nbformat_minor": 5
}
